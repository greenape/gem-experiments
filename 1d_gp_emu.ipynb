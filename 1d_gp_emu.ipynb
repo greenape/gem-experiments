{
 "metadata": {
  "name": "",
  "signature": "sha256:5027c5a3ec81a128432d434732e46388650217b4f32494826016c5c9b2a25351"
 },
 "nbformat": 3,
 "nbformat_minor": 0,
 "worksheets": [
  {
   "cells": [
    {
     "cell_type": "code",
     "collapsed": false,
     "input": [
      "import numpy as np"
     ],
     "language": "python",
     "metadata": {},
     "outputs": [],
     "prompt_number": 9
    },
    {
     "cell_type": "code",
     "collapsed": false,
     "input": [
      "def norm_points(points, high=None, low=None):\n",
      "    if high is None:\n",
      "        high = np.max(points)\n",
      "    if low is None:\n",
      "        low = np.min(points)\n",
      "    return (points-low)/float(high - low)\n",
      "\n",
      "def cor(x, x_prime, sigma):\n",
      "    return np.exp(-np.power((x-x_prime)/sigma, 2))\n",
      "\n",
      "def cov(x, x_prime, sigma, delta_squared):\n",
      "    return delta_squared*cor(x, x_prime, sigma)\n",
      "\n",
      "def pi_star_sigma(delta_hat_sq, n, q, A_inv, A, H):\n",
      "    return np.power(delta_hat_sq, -(n-q)/2.)*np.power(np.linalg.det(A), -1/2.)*np.power(np.linalg.det(H.T.dot(A_inv).dot(H)), -1/2.)\n",
      "\n",
      "def delta_hat_sq(n, q, f_D, A_inv, H):\n",
      "    res = np.power(n-q-2, -1.)\n",
      "    res *= f_D.T.dot(A_inv-A_inv.dot(H).dot((H.T.dot(A_inv).dot(H)).getI()).dot(H.T).dot(A_inv))\n",
      "    return res.dot(f_D)\n",
      "\n",
      "def delta_hat_sq_beta(n, q, f_D, A_inv, H_, beta_hat):\n",
      "    return ((f_D-H_.dot(beta_hat)).T.dot(A_inv).dot(f_D-H_.dot(beta_hat)))/(n-q-2.)\n",
      "\n",
      "def A(points, sigma):\n",
      "    return cor(points[:,np.newaxis], points, sigma)\n",
      "\n",
      "def tau(sigma):\n",
      "    return 2*np.log(sigma)\n",
      "\n",
      "def pi_star_tau(tau, n, q, f_D, A_inv, A, H):\n",
      "    return pi_star_sigma(delta_hat_sq(n, q, f_D, A_inv, H), n, q, A_inv, A, H)\n",
      "\n",
      "def H(x, h):\n",
      "    return h(x).T\n",
      "\n",
      "def beta_hat(H, A_inv, f_D):\n",
      "    return (H.T.dot(A_inv).dot(H)).getI().dot(H.T).dot(A_inv).dot(f_D)\n",
      "\n",
      "def h(x):\n",
      "    return np.vstack((np.ones(len(x)), x))\n",
      "\n",
      "def mahalanobis(f_D, m_star, v_star):\n",
      "    return (f_D - m_star).T.dot(v_star.getI()).dot(f_D - m_star)\n",
      "\n",
      "def se(f_D, m_star, v_star):\n",
      "    return (f_D - m_star).T / np.sqrt(np.diag(v_star))\n",
      "\n",
      "def make_t(D, sigma_hat):\n",
      "    def f(x):\n",
      "        return cor(D[:,np.newaxis], x, sigma_hat)\n",
      "    return f\n",
      "\n",
      "def make_m_star(h, b_hat, A_inv, f_D):\n",
      "    def f(x):\n",
      "        return h(x).T.dot(b_hat) + t(x).T.dot(A_inv).dot(f_D - H_.dot(b_hat))\n",
      "    return f\n",
      "\n",
      "def make_v_star(d_hat_sq, sigma_hat, A_inv, h, H_):    \n",
      "    def f(x, x_prime):\n",
      "        return d_hat_sq*(cor(x[:,np.newaxis], x_prime, sigma_hat) - t(x).T.dot(np.array(A_inv)).dot(t(x_prime)) + (h(x).T-t(x).T.dot(A_inv).dot(H_)).dot(H_.T.dot(A_inv.dot(H_)).getI()).dot((h(x_prime).T-t(x_prime).T.dot(A_inv.dot(H_))).T))\n",
      "    return f\n"
     ],
     "language": "python",
     "metadata": {},
     "outputs": [],
     "prompt_number": 14
    },
    {
     "cell_type": "code",
     "collapsed": false,
     "input": [
      "points = np.array([1100,1140,1180,1220,1260,1300])\n",
      "f_D = np.array([[-48.85,-45.15,-23.78,-8.87,-1.49,4.77]]).T\n",
      "D = norm_points(points)\n",
      "taus = np.linspace(-6, 2)\n",
      "n = len(points)\n",
      "p = 1\n",
      "q = 1 + p\n",
      "sigma_hat = 0.252"
     ],
     "language": "python",
     "metadata": {},
     "outputs": [],
     "prompt_number": 15
    },
    {
     "cell_type": "code",
     "collapsed": false,
     "input": [
      "As = map(lambda s: A(D, np.exp(s/2.)), taus)\n",
      "H(D, h)"
     ],
     "language": "python",
     "metadata": {},
     "outputs": [
      {
       "metadata": {},
       "output_type": "pyout",
       "prompt_number": 17,
       "text": [
        "array([[ 1. ,  0. ],\n",
        "       [ 1. ,  0.2],\n",
        "       [ 1. ,  0.4],\n",
        "       [ 1. ,  0.6],\n",
        "       [ 1. ,  0.8],\n",
        "       [ 1. ,  1. ]])"
       ]
      }
     ],
     "prompt_number": 17
    },
    {
     "cell_type": "code",
     "collapsed": false,
     "input": [
      "A_invs = map(lambda a: np.matrix(a).getI(), As)"
     ],
     "language": "python",
     "metadata": {},
     "outputs": []
    },
    {
     "cell_type": "code",
     "collapsed": false,
     "input": [
      "ln_pi_tau_star_pi = np.array(map(lambda (t, a_inv, a): np.log(pi_star_tau(np.exp(t/2.), n, q, f_D, a_inv, a, H(D, h))), zip(taus, A_invs, As))).flatten()"
     ],
     "language": "python",
     "metadata": {},
     "outputs": []
    },
    {
     "cell_type": "code",
     "collapsed": false,
     "input": [
      "%matplotlib inline"
     ],
     "language": "python",
     "metadata": {},
     "outputs": []
    },
    {
     "cell_type": "code",
     "collapsed": false,
     "input": [
      "from pylab import *\n",
      "figure()\n",
      "plot(taus, ln_pi_tau_star_pi, 'r')\n",
      "show()"
     ],
     "language": "python",
     "metadata": {},
     "outputs": []
    },
    {
     "cell_type": "code",
     "collapsed": false,
     "input": [
      "from scipy.optimize import minimize\n",
      "\n",
      "def f(x):\n",
      "    a = A(D, np.exp(x/2.))\n",
      "    a_inv = np.matrix(a).getI()\n",
      "    return -np.log(pi_star_tau(np.exp(x/2.), n, q, f_D, a_inv, a, H(D, h)))\n",
      "\n",
      "sigma_hat = np.exp(minimize(f, -2.75, method=\"nelder-mead\", options={'disp':True})['x']/2.)\n",
      "print sigma_hat"
     ],
     "language": "python",
     "metadata": {},
     "outputs": []
    },
    {
     "cell_type": "code",
     "collapsed": false,
     "input": [
      "A_inv = np.matrix(A(D, sigma_hat)).getI()\n",
      "b_hat = beta_hat(H(D, h), A_inv, f_D)\n",
      "d_hat_sq = delta_hat_sq(n, q, f_D, A_inv, H(D, h))[0,0]\n",
      "H_ = H(D, h)"
     ],
     "language": "python",
     "metadata": {},
     "outputs": []
    },
    {
     "cell_type": "code",
     "collapsed": false,
     "input": [
      "b_hat, d_hat_sq, delta_hat_sq_beta(n, q, f_D, A_inv, H(D, h), b_hat)"
     ],
     "language": "python",
     "metadata": {},
     "outputs": []
    },
    {
     "cell_type": "code",
     "collapsed": false,
     "input": [
      "original_points = points\n",
      "points = np.linspace(1075, 1325, 100)\n",
      "normed_points = norm_points(points, high=1300, low=1100)\n",
      "\n",
      "t = make_t(D, sigma_hat)\n",
      "m_star = make_m_star(h, b_hat, A_inv, f_D)\n",
      "v_star = make_v_star(d_hat_sq, sigma_hat, A_inv, h, H_)"
     ],
     "language": "python",
     "metadata": {},
     "outputs": []
    },
    {
     "cell_type": "code",
     "collapsed": false,
     "input": [
      "predictions = np.array(m_star(normed_points)).flatten()\n",
      "sds = np.sqrt(np.diag(v_star(normed_points, normed_points))).flatten()*2"
     ],
     "language": "python",
     "metadata": {},
     "outputs": []
    },
    {
     "cell_type": "code",
     "collapsed": false,
     "input": [
      "figure()\n",
      "fill_between(points, predictions + sds, predictions - sds, alpha=0.5)\n",
      "plot(points, predictions, '--')\n",
      "plot(original_points, f_D.flatten(), 'o')\n",
      "ylim([-60, 10])\n",
      "xlim([1075, 1325])\n",
      "show()"
     ],
     "language": "python",
     "metadata": {},
     "outputs": []
    },
    {
     "cell_type": "code",
     "collapsed": false,
     "input": [
      "validation_points = np.array([1110, 1160, 1250])\n",
      "D_prime = norm_points(validation_points, low=1100, high=1300)\n",
      "print D_prime\n",
      "f_D_prime = np.array([[-48.16, -39.63, -3.14]]).T\n",
      "m_star_D_prime = m_star(D_prime)\n",
      "print m_star_D_prime\n",
      "v_star_D_prime = v_star(D_prime, D_prime)\n",
      "print np.sqrt(np.diag(v_star_D_prime))\n",
      "print se(f_D_prime, m_star_D_prime, v_star_D_prime)"
     ],
     "language": "python",
     "metadata": {},
     "outputs": []
    },
    {
     "cell_type": "code",
     "collapsed": false,
     "input": [
      "mahalanobis(f_D_prime, m_star_D_prime, v_star_D_prime)"
     ],
     "language": "python",
     "metadata": {},
     "outputs": []
    },
    {
     "cell_type": "code",
     "collapsed": false,
     "input": [
      "points = np.array([1100, 1110, 1140, 1160, 1180,1220, 1250,1260,1300])\n",
      "f_D = np.array([[-48.85,-48.16, -45.15, -39.63, -23.78,-8.87, -3.14, -1.49,4.77]]).T\n",
      "D = norm_points(points)\n",
      "n = len(points)"
     ],
     "language": "python",
     "metadata": {},
     "outputs": []
    },
    {
     "cell_type": "code",
     "collapsed": false,
     "input": [
      "def f(x):\n",
      "    a = A(D, np.exp(x/2.))\n",
      "    a_inv = np.matrix(a).getI()\n",
      "    return -np.log(pi_star_tau(np.exp(x/2.), n, q, f_D, a_inv, a, H(D, h)))\n",
      "\n",
      "sigma_hat = np.exp(minimize(f, -2.75, method=\"nelder-mead\", options={'disp':True})['x']/2.)\n",
      "print sigma_hat"
     ],
     "language": "python",
     "metadata": {},
     "outputs": []
    },
    {
     "cell_type": "code",
     "collapsed": false,
     "input": [
      "A_inv = np.matrix(A(D, sigma_hat)).getI()\n",
      "b_hat = beta_hat(H(D, h), A_inv, f_D)\n",
      "d_hat_sq = delta_hat_sq(n, q, f_D, A_inv, H(D, h))[0,0]\n",
      "H_ = H(D, h)\n",
      "print b_hat, d_hat_sq"
     ],
     "language": "python",
     "metadata": {},
     "outputs": []
    },
    {
     "cell_type": "code",
     "collapsed": false,
     "input": [
      "original_points = points\n",
      "points = np.linspace(1075, 1325,100)\n",
      "normed_points = norm_points(points, high=1300, low=1100)\n",
      "\n",
      "t = make_t(D, sigma_hat)\n",
      "m_star = make_m_star(h, b_hat, A_inv, f_D)\n",
      "v_star = make_v_star(d_hat_sq, sigma_hat, A_inv, h, H_)\n",
      "\n",
      "predictions = np.array(m_star(normed_points)).flatten()\n",
      "sds = np.sqrt(np.diag(v_star(normed_points, normed_points))).flatten()*2"
     ],
     "language": "python",
     "metadata": {},
     "outputs": []
    },
    {
     "cell_type": "code",
     "collapsed": false,
     "input": [
      "figure()\n",
      "fill_between(points, predictions + sds, predictions - sds, alpha=0.5)\n",
      "plot(points, predictions, '--')\n",
      "plot(original_points, f_D.flatten(), 'o')\n",
      "ylim([-60, 10])\n",
      "xlim([1075, 1325])\n",
      "show()"
     ],
     "language": "python",
     "metadata": {},
     "outputs": []
    },
    {
     "cell_type": "code",
     "collapsed": false,
     "input": [
      "validation_points = np.array([1130, 1200, 1270])\n",
      "D_prime = norm_points(validation_points, low=1100, high=1300)\n",
      "print D_prime\n",
      "f_D_prime = np.array([[-46.42, -15.45, 0.55]]).T\n",
      "m_star_D_prime = m_star(D_prime)\n",
      "print m_star_D_prime\n",
      "v_star_D_prime = v_star(D_prime, D_prime)\n",
      "print np.sqrt(np.diag(v_star_D_prime))\n",
      "print se(f_D_prime, m_star_D_prime, v_star_D_prime)"
     ],
     "language": "python",
     "metadata": {},
     "outputs": []
    },
    {
     "cell_type": "code",
     "collapsed": false,
     "input": [
      "mahalanobis(f_D_prime, m_star_D_prime, v_star_D_prime)"
     ],
     "language": "python",
     "metadata": {},
     "outputs": []
    },
    {
     "cell_type": "code",
     "collapsed": false,
     "input": [
      "points = np.array([1100, 1110, 1130, 1140, 1160, 1180,1200, 1220, 1250,1260, 1270, 1300])\n",
      "f_D = np.array([[-48.85,-48.16, -46.42, -45.15, -39.63, -23.78,-15.45, -8.87, -3.14, -1.49, 0.55, 4.77]]).T\n",
      "D = norm_points(points)\n",
      "n = len(points)\n",
      "def f(x):\n",
      "    a = A(D, np.exp(x/2.))\n",
      "    a_inv = np.matrix(a).getI()\n",
      "    return -np.log(pi_star_tau(np.exp(x/2.), n, q, f_D, a_inv, a, H(D, h)))\n",
      "\n",
      "sigma_hat = np.exp(minimize(f, -2.75, method=\"nelder-mead\", options={'disp':True})['x']/2.)\n",
      "print sigma_hat\n",
      "A_inv = np.matrix(A(D, sigma_hat)).getI()\n",
      "b_hat = beta_hat(H(D, h), A_inv, f_D)\n",
      "d_hat_sq = delta_hat_sq(n, q, f_D, A_inv, H(D, h))[0,0]\n",
      "H_ = H(D, h)\n",
      "print b_hat, d_hat_sq\n",
      "original_points = points\n",
      "points = np.linspace(1075, 1325,100)\n",
      "normed_points = norm_points(points, high=1300, low=1100)\n",
      "\n",
      "t = make_t(D, sigma_hat)\n",
      "m_star = make_m_star(h, b_hat, A_inv, f_D)\n",
      "v_star = make_v_star(d_hat_sq, sigma_hat, A_inv, h, H_)\n",
      "\n",
      "predictions = np.array(m_star(normed_points)).flatten()\n",
      "sds = np.sqrt(np.diag(v_star(normed_points, normed_points))).flatten()*2\n",
      "figure()\n",
      "fill_between(points, predictions + sds, predictions - sds, alpha=0.5)\n",
      "plot(points, predictions, '--')\n",
      "plot(original_points, f_D.flatten(), 'o')\n",
      "ylim([-60, 10])\n",
      "xlim([1075, 1325])\n",
      "show()"
     ],
     "language": "python",
     "metadata": {},
     "outputs": []
    },
    {
     "cell_type": "code",
     "collapsed": false,
     "input": [],
     "language": "python",
     "metadata": {},
     "outputs": []
    }
   ],
   "metadata": {}
  }
 ]
}