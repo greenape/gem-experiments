{
 "cells": [
  {
   "cell_type": "code",
   "execution_count": 60,
   "metadata": {
    "collapsed": false
   },
   "outputs": [
    {
     "name": "stdout",
     "output_type": "stream",
     "text": [
      "Populating the interactive namespace from numpy and matplotlib\n"
     ]
    },
    {
     "name": "stderr",
     "output_type": "stream",
     "text": [
      "WARNING: pylab import has clobbered these variables: ['norm', 'prod', 'polar', 'Circle', 'power', 'diag', 'sinh', 'trunc', 'binomial', 'plot', 'eye', 'linspace', 'det', 'tan', 'product', 'rand', 'roots', 'vectorize', 'degrees', 'radians', 'sin', 'fmod', 'matrix', 'arange', 'plotting', 'expm1', 'ldexp', 'zeros', 'cosh', 'conjugate', 'take', 'trace', 'isnan', 'beta', 'pylab', 'cholesky', 'frexp', 'ceil', 'ones', 'qr', 'transpose', 'cos', 'cov', 'interactive', 'solve', 'diff', 'invert', 'sinc', 'tanh', 'eig', 'Polygon', 'cond', 'conj', 'fabs', 'reshape', 'sqrt', 'polyval', 'floor', 'source', 'add', 'multinomial', 'test', 'poly', 'mod', 'sign', 'hypot', 'isfinite', 'gamma', 'log', 'var', 'log10', 'seterr', 'flatten', 'inf', 'nan', 'pi', 'exp', 'isinf', 'e', 'svd', 'eigh']\n",
      "`%matplotlib` prevents importing * from pylab and numpy\n"
     ]
    }
   ],
   "source": [
    "%matplotlib inline\n",
    "import numpy as np\n",
    "from sympy import *\n",
    "from mpmath import *\n",
    "import pylab\n",
    "from scipy.optimize import minimize"
   ]
  },
  {
   "cell_type": "code",
   "execution_count": 1,
   "metadata": {
    "collapsed": false
   },
   "outputs": [],
   "source": [
    "def norm_points(points, high=None, low=None):\n",
    "    if high is None:\n",
    "        high = np.max(points)\n",
    "    if low is None:\n",
    "        low = np.min(points)\n",
    "    return Matrix((points-low)/float(high - low))\n",
    "\n",
    "def cor(x, x_prime, delta):\n",
    "    def m(i, j):\n",
    "        return ((x[i, j]-x_prime[i, j])/delta[j])**2\n",
    "    return exp(-sum(Matrix(x.cols, x.rows, m)))\n",
    "\n",
    "def cov(x, x_prime, delta, sigma_squared):\n",
    "    return sigma_squared*cor(x, x_prime, delta)\n",
    "\n",
    "def pi_star_delta(sigma_hat_sq, n, q, A_inv, A, H):\n",
    "    return power(sigma_hat_sq, -(n-q)/2.)*power(A.det(), -1/2.)*power((H.T*A_inv*H).det(), -1/2.)\n",
    "\n",
    "def sigma_hat_sq(n, q, f_D, A_inv, H):\n",
    "    return (((n-q-2)**-1.)*f_D.T*(A_inv-A_inv*H*((H.T*A_inv*H)**-1)*H.T*A_inv)*f_D)[0, 0]\n",
    "\n",
    "def sigma_hat_sq_beta(n, q, f_D, A_inv, H_, beta_hat):\n",
    "    return ((f_D-H_*beta_hat).T*A_inv*(f_D-H_*(beta_hat)))/(n-q-2.)\n",
    "\n",
    "def A(points, delta):\n",
    "    def m(i, j):\n",
    "        return cor(points[:,i], points[:,j], delta)\n",
    "    a = Matrix(points.cols, points.cols, m)\n",
    "    return a\n",
    "\n",
    "def tau(delta):\n",
    "    return 2*np.log(delta)\n",
    "\n",
    "def pi_star_tau(tau, n, q, f_D, A_inv, A, H):\n",
    "    return pi_star_delta(sigma_hat_sq(n, q, f_D, A_inv, H), n, q, A_inv, A, H)\n",
    "\n",
    "def H(x, h):\n",
    "    return h(x).T\n",
    "\n",
    "def beta_hat(H, A_inv, f_D):\n",
    "    return ((H.T*A_inv*H)**-1)*H.T*A_inv*f_D\n",
    "\n",
    "def h(x):\n",
    "    return Matrix(np.vstack((np.ones(len(x)), x)))\n",
    "\n",
    "def mahalanobis(f_D, m_star, v_star):\n",
    "    return (f_D - m_star).T*(v_star**-1)*(f_D - m_star)\n",
    "\n",
    "def se(f_D, m_star, v_star):\n",
    "    return (f_D - m_star).T / diag(v_star).applyfunc(sqrt)\n",
    "\n",
    "def make_t(D, delta_hat):\n",
    "    def f(x):\n",
    "        def m(i, j):\n",
    "            return cor(D[:,i], x[:,j], delta_hat)\n",
    "        a = Matrix(D.cols, x.cols, m)\n",
    "        return a\n",
    "    return f\n",
    "\n",
    "def make_m_star(h, b_hat, A_inv, f_D, t):\n",
    "    def f(x):\n",
    "        return h(x).T*b_hat + t(x).T*A_inv*(f_D - H_*b_hat)\n",
    "    return f\n",
    "\n",
    "def make_v_star(d_hat_sq, delta_hat, A_inv, h, H_, t):    \n",
    "    def f(x, x_prime):\n",
    "        def m(i, j):\n",
    "            return cor(x[:,i], x_prime[:,j], delta_hat)\n",
    "        c_x_x_prime = Matrix(x.cols, x_prime.cols, m)\n",
    "        return d_hat_sq*(c_x_x_prime - t(x).T*A_inv*t(x_prime) + (h(x).T-t(x).T*A_inv*H_)*((H_.T*A_inv*H_)**-1)*((h(x_prime).T-t(x_prime).T*A_inv*H_).T))\n",
    "    return f\n",
    "\n",
    "def diag(x):\n",
    "    def m(i, j):\n",
    "        return x[i, i]\n",
    "    a = Matrix(x.cols, 1, m)\n",
    "    return a\n",
    "\n",
    "def Trace(x):\n",
    "    return sum*diag(x)\n",
    "\n",
    "def fit(n, q, f_D, D, h, start):\n",
    "    def f(x):\n",
    "        x = Matrix(map(lambda y: exp(mpf(y)/2.), x))\n",
    "        a = A(D, x)\n",
    "        a_inv = a**-1\n",
    "        return -log(pi_star_tau(x, n, q, f_D, a_inv, a, H(D, h)))\n",
    "    tau = minimize(f, start, method=\"nelder-mead\", options={'disp':True})['x']\n",
    "    delta_hat = map(exp, map(lambda x: x/2., map(mpf,tau)))\n",
    "    return delta_hat"
   ]
  },
  {
   "cell_type": "code",
   "execution_count": 87,
   "metadata": {
    "collapsed": false
   },
   "outputs": [
    {
     "data": {
      "text/plain": [
       "(Matrix([[0.0, 0.2, 0.4, 0.6, 0.8, 1.0]]), Matrix([\n",
       " [-48.85],\n",
       " [-45.15],\n",
       " [-23.78],\n",
       " [ -8.87],\n",
       " [ -1.49],\n",
       " [  4.77]]))"
      ]
     },
     "execution_count": 87,
     "metadata": {},
     "output_type": "execute_result"
    }
   ],
   "source": [
    "points = np.array([1100,1140,1180,1220,1260,1300])\n",
    "f_D = Matrix([-48.85,-45.15,-23.78,-8.87,-1.49,4.77])\n",
    "D = Matrix(norm_points(points)).T\n",
    "taus = np.linspace(-6, 2)\n",
    "n = len(points)\n",
    "p = 1\n",
    "q = 1 + p\n",
    "delta_hat = 0.252\n",
    "D, f_D"
   ]
  },
  {
   "cell_type": "code",
   "execution_count": 89,
   "metadata": {
    "collapsed": false
   },
   "outputs": [
    {
     "ename": "IndexError",
     "evalue": "Index out of range: a[1]",
     "output_type": "error",
     "traceback": [
      "\u001b[0;31m---------------------------------------------------------------------------\u001b[0m",
      "\u001b[0;31mIndexError\u001b[0m                                Traceback (most recent call last)",
      "\u001b[0;32m<ipython-input-89-e6cbd619e5e8>\u001b[0m in \u001b[0;36m<module>\u001b[0;34m()\u001b[0m\n\u001b[0;32m----> 1\u001b[0;31m \u001b[0mAs\u001b[0m \u001b[0;34m=\u001b[0m \u001b[0mmap\u001b[0m\u001b[0;34m(\u001b[0m\u001b[0;32mlambda\u001b[0m \u001b[0ms\u001b[0m\u001b[0;34m:\u001b[0m \u001b[0mA\u001b[0m\u001b[0;34m(\u001b[0m\u001b[0mD\u001b[0m\u001b[0;34m,\u001b[0m \u001b[0mMatrix\u001b[0m\u001b[0;34m(\u001b[0m\u001b[0;34m[\u001b[0m\u001b[0mexp\u001b[0m\u001b[0;34m(\u001b[0m\u001b[0ms\u001b[0m\u001b[0;34m/\u001b[0m\u001b[0;36m2.\u001b[0m\u001b[0;34m)\u001b[0m\u001b[0;34m]\u001b[0m\u001b[0;34m)\u001b[0m\u001b[0;34m.\u001b[0m\u001b[0mT\u001b[0m\u001b[0;34m)\u001b[0m\u001b[0;34m,\u001b[0m \u001b[0mtaus\u001b[0m\u001b[0;34m)\u001b[0m\u001b[0;34m\u001b[0m\u001b[0m\n\u001b[0m\u001b[1;32m      2\u001b[0m \u001b[0mH\u001b[0m\u001b[0;34m(\u001b[0m\u001b[0mD\u001b[0m\u001b[0;34m,\u001b[0m \u001b[0mh\u001b[0m\u001b[0;34m)\u001b[0m\u001b[0;34m,\u001b[0m \u001b[0mAs\u001b[0m\u001b[0;34m[\u001b[0m\u001b[0;36m0\u001b[0m\u001b[0;34m]\u001b[0m\u001b[0;34m\u001b[0m\u001b[0m\n",
      "\u001b[0;32m<ipython-input-89-e6cbd619e5e8>\u001b[0m in \u001b[0;36m<lambda>\u001b[0;34m(s)\u001b[0m\n\u001b[0;32m----> 1\u001b[0;31m \u001b[0mAs\u001b[0m \u001b[0;34m=\u001b[0m \u001b[0mmap\u001b[0m\u001b[0;34m(\u001b[0m\u001b[0;32mlambda\u001b[0m \u001b[0ms\u001b[0m\u001b[0;34m:\u001b[0m \u001b[0mA\u001b[0m\u001b[0;34m(\u001b[0m\u001b[0mD\u001b[0m\u001b[0;34m,\u001b[0m \u001b[0mMatrix\u001b[0m\u001b[0;34m(\u001b[0m\u001b[0;34m[\u001b[0m\u001b[0mexp\u001b[0m\u001b[0;34m(\u001b[0m\u001b[0ms\u001b[0m\u001b[0;34m/\u001b[0m\u001b[0;36m2.\u001b[0m\u001b[0;34m)\u001b[0m\u001b[0;34m]\u001b[0m\u001b[0;34m)\u001b[0m\u001b[0;34m.\u001b[0m\u001b[0mT\u001b[0m\u001b[0;34m)\u001b[0m\u001b[0;34m,\u001b[0m \u001b[0mtaus\u001b[0m\u001b[0;34m)\u001b[0m\u001b[0;34m\u001b[0m\u001b[0m\n\u001b[0m\u001b[1;32m      2\u001b[0m \u001b[0mH\u001b[0m\u001b[0;34m(\u001b[0m\u001b[0mD\u001b[0m\u001b[0;34m,\u001b[0m \u001b[0mh\u001b[0m\u001b[0;34m)\u001b[0m\u001b[0;34m,\u001b[0m \u001b[0mAs\u001b[0m\u001b[0;34m[\u001b[0m\u001b[0;36m0\u001b[0m\u001b[0;34m]\u001b[0m\u001b[0;34m\u001b[0m\u001b[0m\n",
      "\u001b[0;32m<ipython-input-86-2ad4c509db23>\u001b[0m in \u001b[0;36mA\u001b[0;34m(points, delta)\u001b[0m\n\u001b[1;32m     26\u001b[0m     \u001b[0;32mdef\u001b[0m \u001b[0mm\u001b[0m\u001b[0;34m(\u001b[0m\u001b[0mi\u001b[0m\u001b[0;34m,\u001b[0m \u001b[0mj\u001b[0m\u001b[0;34m)\u001b[0m\u001b[0;34m:\u001b[0m\u001b[0;34m\u001b[0m\u001b[0m\n\u001b[1;32m     27\u001b[0m         \u001b[0;32mreturn\u001b[0m \u001b[0mcor\u001b[0m\u001b[0;34m(\u001b[0m\u001b[0mpoints\u001b[0m\u001b[0;34m[\u001b[0m\u001b[0mi\u001b[0m\u001b[0;34m,\u001b[0m\u001b[0;34m:\u001b[0m\u001b[0;34m]\u001b[0m\u001b[0;34m,\u001b[0m \u001b[0mpoints\u001b[0m\u001b[0;34m[\u001b[0m\u001b[0mj\u001b[0m\u001b[0;34m,\u001b[0m\u001b[0;34m:\u001b[0m\u001b[0;34m]\u001b[0m\u001b[0;34m,\u001b[0m \u001b[0mdelta\u001b[0m\u001b[0;34m)\u001b[0m\u001b[0;34m\u001b[0m\u001b[0m\n\u001b[0;32m---> 28\u001b[0;31m     \u001b[0ma\u001b[0m \u001b[0;34m=\u001b[0m \u001b[0mMatrix\u001b[0m\u001b[0;34m(\u001b[0m\u001b[0mpoints\u001b[0m\u001b[0;34m.\u001b[0m\u001b[0mcols\u001b[0m\u001b[0;34m,\u001b[0m \u001b[0mpoints\u001b[0m\u001b[0;34m.\u001b[0m\u001b[0mcols\u001b[0m\u001b[0;34m,\u001b[0m \u001b[0mm\u001b[0m\u001b[0;34m)\u001b[0m\u001b[0;34m\u001b[0m\u001b[0m\n\u001b[0m\u001b[1;32m     29\u001b[0m     \u001b[0;32mreturn\u001b[0m \u001b[0ma\u001b[0m\u001b[0;34m\u001b[0m\u001b[0m\n\u001b[1;32m     30\u001b[0m \u001b[0;34m\u001b[0m\u001b[0m\n",
      "\u001b[0;32m/usr/local/lib/python2.7/site-packages/sympy/matrices/dense.pyc\u001b[0m in \u001b[0;36m__new__\u001b[0;34m(cls, *args, **kwargs)\u001b[0m\n\u001b[1;32m    593\u001b[0m \u001b[0;34m\u001b[0m\u001b[0m\n\u001b[1;32m    594\u001b[0m     \u001b[0;32mdef\u001b[0m \u001b[0m__new__\u001b[0m\u001b[0;34m(\u001b[0m\u001b[0mcls\u001b[0m\u001b[0;34m,\u001b[0m \u001b[0;34m*\u001b[0m\u001b[0margs\u001b[0m\u001b[0;34m,\u001b[0m \u001b[0;34m**\u001b[0m\u001b[0mkwargs\u001b[0m\u001b[0;34m)\u001b[0m\u001b[0;34m:\u001b[0m\u001b[0;34m\u001b[0m\u001b[0m\n\u001b[0;32m--> 595\u001b[0;31m         \u001b[0;32mreturn\u001b[0m \u001b[0mcls\u001b[0m\u001b[0;34m.\u001b[0m\u001b[0m_new\u001b[0m\u001b[0;34m(\u001b[0m\u001b[0;34m*\u001b[0m\u001b[0margs\u001b[0m\u001b[0;34m,\u001b[0m \u001b[0;34m**\u001b[0m\u001b[0mkwargs\u001b[0m\u001b[0;34m)\u001b[0m\u001b[0;34m\u001b[0m\u001b[0m\n\u001b[0m\u001b[1;32m    596\u001b[0m \u001b[0;34m\u001b[0m\u001b[0m\n\u001b[1;32m    597\u001b[0m     \u001b[0;32mdef\u001b[0m \u001b[0mas_mutable\u001b[0m\u001b[0;34m(\u001b[0m\u001b[0mself\u001b[0m\u001b[0;34m)\u001b[0m\u001b[0;34m:\u001b[0m\u001b[0;34m\u001b[0m\u001b[0m\n",
      "\u001b[0;32m/usr/local/lib/python2.7/site-packages/sympy/matrices/dense.pyc\u001b[0m in \u001b[0;36m_new\u001b[0;34m(cls, *args, **kwargs)\u001b[0m\n\u001b[1;32m    585\u001b[0m     \u001b[0;34m@\u001b[0m\u001b[0mclassmethod\u001b[0m\u001b[0;34m\u001b[0m\u001b[0m\n\u001b[1;32m    586\u001b[0m     \u001b[0;32mdef\u001b[0m \u001b[0m_new\u001b[0m\u001b[0;34m(\u001b[0m\u001b[0mcls\u001b[0m\u001b[0;34m,\u001b[0m \u001b[0;34m*\u001b[0m\u001b[0margs\u001b[0m\u001b[0;34m,\u001b[0m \u001b[0;34m**\u001b[0m\u001b[0mkwargs\u001b[0m\u001b[0;34m)\u001b[0m\u001b[0;34m:\u001b[0m\u001b[0;34m\u001b[0m\u001b[0m\n\u001b[0;32m--> 587\u001b[0;31m         \u001b[0mrows\u001b[0m\u001b[0;34m,\u001b[0m \u001b[0mcols\u001b[0m\u001b[0;34m,\u001b[0m \u001b[0mflat_list\u001b[0m \u001b[0;34m=\u001b[0m \u001b[0mcls\u001b[0m\u001b[0;34m.\u001b[0m\u001b[0m_handle_creation_inputs\u001b[0m\u001b[0;34m(\u001b[0m\u001b[0;34m*\u001b[0m\u001b[0margs\u001b[0m\u001b[0;34m,\u001b[0m \u001b[0;34m**\u001b[0m\u001b[0mkwargs\u001b[0m\u001b[0;34m)\u001b[0m\u001b[0;34m\u001b[0m\u001b[0m\n\u001b[0m\u001b[1;32m    588\u001b[0m         \u001b[0mself\u001b[0m \u001b[0;34m=\u001b[0m \u001b[0mobject\u001b[0m\u001b[0;34m.\u001b[0m\u001b[0m__new__\u001b[0m\u001b[0;34m(\u001b[0m\u001b[0mcls\u001b[0m\u001b[0;34m)\u001b[0m\u001b[0;34m\u001b[0m\u001b[0m\n\u001b[1;32m    589\u001b[0m         \u001b[0mself\u001b[0m\u001b[0;34m.\u001b[0m\u001b[0mrows\u001b[0m \u001b[0;34m=\u001b[0m \u001b[0mrows\u001b[0m\u001b[0;34m\u001b[0m\u001b[0m\n",
      "\u001b[0;32m/usr/local/lib/python2.7/site-packages/sympy/matrices/matrices.pyc\u001b[0m in \u001b[0;36m_handle_creation_inputs\u001b[0;34m(cls, *args, **kwargs)\u001b[0m\n\u001b[1;32m    153\u001b[0m             \u001b[0;32mfor\u001b[0m \u001b[0mi\u001b[0m \u001b[0;32min\u001b[0m \u001b[0mrange\u001b[0m\u001b[0;34m(\u001b[0m\u001b[0mrows\u001b[0m\u001b[0;34m)\u001b[0m\u001b[0;34m:\u001b[0m\u001b[0;34m\u001b[0m\u001b[0m\n\u001b[1;32m    154\u001b[0m                 flat_list.extend([cls._sympify(operation(cls._sympify(i), j))\n\u001b[0;32m--> 155\u001b[0;31m                     for j in range(cols)])\n\u001b[0m\u001b[1;32m    156\u001b[0m \u001b[0;34m\u001b[0m\u001b[0m\n\u001b[1;32m    157\u001b[0m         \u001b[0;31m# Matrix(2, 2, [1, 2, 3, 4])\u001b[0m\u001b[0;34m\u001b[0m\u001b[0;34m\u001b[0m\u001b[0m\n",
      "\u001b[0;32m<ipython-input-86-2ad4c509db23>\u001b[0m in \u001b[0;36mm\u001b[0;34m(i, j)\u001b[0m\n\u001b[1;32m     25\u001b[0m \u001b[0;32mdef\u001b[0m \u001b[0mA\u001b[0m\u001b[0;34m(\u001b[0m\u001b[0mpoints\u001b[0m\u001b[0;34m,\u001b[0m \u001b[0mdelta\u001b[0m\u001b[0;34m)\u001b[0m\u001b[0;34m:\u001b[0m\u001b[0;34m\u001b[0m\u001b[0m\n\u001b[1;32m     26\u001b[0m     \u001b[0;32mdef\u001b[0m \u001b[0mm\u001b[0m\u001b[0;34m(\u001b[0m\u001b[0mi\u001b[0m\u001b[0;34m,\u001b[0m \u001b[0mj\u001b[0m\u001b[0;34m)\u001b[0m\u001b[0;34m:\u001b[0m\u001b[0;34m\u001b[0m\u001b[0m\n\u001b[0;32m---> 27\u001b[0;31m         \u001b[0;32mreturn\u001b[0m \u001b[0mcor\u001b[0m\u001b[0;34m(\u001b[0m\u001b[0mpoints\u001b[0m\u001b[0;34m[\u001b[0m\u001b[0mi\u001b[0m\u001b[0;34m,\u001b[0m\u001b[0;34m:\u001b[0m\u001b[0;34m]\u001b[0m\u001b[0;34m,\u001b[0m \u001b[0mpoints\u001b[0m\u001b[0;34m[\u001b[0m\u001b[0mj\u001b[0m\u001b[0;34m,\u001b[0m\u001b[0;34m:\u001b[0m\u001b[0;34m]\u001b[0m\u001b[0;34m,\u001b[0m \u001b[0mdelta\u001b[0m\u001b[0;34m)\u001b[0m\u001b[0;34m\u001b[0m\u001b[0m\n\u001b[0m\u001b[1;32m     28\u001b[0m     \u001b[0ma\u001b[0m \u001b[0;34m=\u001b[0m \u001b[0mMatrix\u001b[0m\u001b[0;34m(\u001b[0m\u001b[0mpoints\u001b[0m\u001b[0;34m.\u001b[0m\u001b[0mcols\u001b[0m\u001b[0;34m,\u001b[0m \u001b[0mpoints\u001b[0m\u001b[0;34m.\u001b[0m\u001b[0mcols\u001b[0m\u001b[0;34m,\u001b[0m \u001b[0mm\u001b[0m\u001b[0;34m)\u001b[0m\u001b[0;34m\u001b[0m\u001b[0m\n\u001b[1;32m     29\u001b[0m     \u001b[0;32mreturn\u001b[0m \u001b[0ma\u001b[0m\u001b[0;34m\u001b[0m\u001b[0m\n",
      "\u001b[0;32m/usr/local/lib/python2.7/site-packages/sympy/matrices/dense.pyc\u001b[0m in \u001b[0;36m__getitem__\u001b[0;34m(self, key)\u001b[0m\n\u001b[1;32m     87\u001b[0m                 \u001b[0;32melse\u001b[0m\u001b[0;34m:\u001b[0m\u001b[0;34m\u001b[0m\u001b[0m\n\u001b[1;32m     88\u001b[0m                     \u001b[0mj\u001b[0m \u001b[0;34m=\u001b[0m \u001b[0;34m[\u001b[0m\u001b[0mj\u001b[0m\u001b[0;34m]\u001b[0m\u001b[0;34m\u001b[0m\u001b[0m\n\u001b[0;32m---> 89\u001b[0;31m                 \u001b[0;32mreturn\u001b[0m \u001b[0mself\u001b[0m\u001b[0;34m.\u001b[0m\u001b[0mextract\u001b[0m\u001b[0;34m(\u001b[0m\u001b[0mi\u001b[0m\u001b[0;34m,\u001b[0m \u001b[0mj\u001b[0m\u001b[0;34m)\u001b[0m\u001b[0;34m\u001b[0m\u001b[0m\n\u001b[0m\u001b[1;32m     90\u001b[0m         \u001b[0;32melse\u001b[0m\u001b[0;34m:\u001b[0m\u001b[0;34m\u001b[0m\u001b[0m\n\u001b[1;32m     91\u001b[0m             \u001b[0;31m# row-wise decomposition of matrix\u001b[0m\u001b[0;34m\u001b[0m\u001b[0;34m\u001b[0m\u001b[0m\n",
      "\u001b[0;32m/usr/local/lib/python2.7/site-packages/sympy/matrices/matrices.pyc\u001b[0m in \u001b[0;36mextract\u001b[0;34m(self, rowsList, colsList)\u001b[0m\n\u001b[1;32m   1045\u001b[0m         \u001b[0mcols\u001b[0m \u001b[0;34m=\u001b[0m \u001b[0mself\u001b[0m\u001b[0;34m.\u001b[0m\u001b[0mcols\u001b[0m\u001b[0;34m\u001b[0m\u001b[0m\n\u001b[1;32m   1046\u001b[0m         \u001b[0mflat_list\u001b[0m \u001b[0;34m=\u001b[0m \u001b[0mself\u001b[0m\u001b[0;34m.\u001b[0m\u001b[0m_mat\u001b[0m\u001b[0;34m\u001b[0m\u001b[0m\n\u001b[0;32m-> 1047\u001b[0;31m         \u001b[0mrowsList\u001b[0m \u001b[0;34m=\u001b[0m \u001b[0;34m[\u001b[0m\u001b[0ma2idx\u001b[0m\u001b[0;34m(\u001b[0m\u001b[0mk\u001b[0m\u001b[0;34m,\u001b[0m \u001b[0mself\u001b[0m\u001b[0;34m.\u001b[0m\u001b[0mrows\u001b[0m\u001b[0;34m)\u001b[0m \u001b[0;32mfor\u001b[0m \u001b[0mk\u001b[0m \u001b[0;32min\u001b[0m \u001b[0mrowsList\u001b[0m\u001b[0;34m]\u001b[0m\u001b[0;34m\u001b[0m\u001b[0m\n\u001b[0m\u001b[1;32m   1048\u001b[0m         \u001b[0mcolsList\u001b[0m \u001b[0;34m=\u001b[0m \u001b[0;34m[\u001b[0m\u001b[0ma2idx\u001b[0m\u001b[0;34m(\u001b[0m\u001b[0mk\u001b[0m\u001b[0;34m,\u001b[0m \u001b[0mself\u001b[0m\u001b[0;34m.\u001b[0m\u001b[0mcols\u001b[0m\u001b[0;34m)\u001b[0m \u001b[0;32mfor\u001b[0m \u001b[0mk\u001b[0m \u001b[0;32min\u001b[0m \u001b[0mcolsList\u001b[0m\u001b[0;34m]\u001b[0m\u001b[0;34m\u001b[0m\u001b[0m\n\u001b[1;32m   1049\u001b[0m         return self._new(len(rowsList), len(colsList),\n",
      "\u001b[0;32m/usr/local/lib/python2.7/site-packages/sympy/matrices/matrices.pyc\u001b[0m in \u001b[0;36ma2idx\u001b[0;34m(j, n)\u001b[0m\n\u001b[1;32m   4168\u001b[0m             \u001b[0mj\u001b[0m \u001b[0;34m+=\u001b[0m \u001b[0mn\u001b[0m\u001b[0;34m\u001b[0m\u001b[0m\n\u001b[1;32m   4169\u001b[0m         \u001b[0;32mif\u001b[0m \u001b[0;32mnot\u001b[0m \u001b[0;34m(\u001b[0m\u001b[0mj\u001b[0m \u001b[0;34m>=\u001b[0m \u001b[0;36m0\u001b[0m \u001b[0;32mand\u001b[0m \u001b[0mj\u001b[0m \u001b[0;34m<\u001b[0m \u001b[0mn\u001b[0m\u001b[0;34m)\u001b[0m\u001b[0;34m:\u001b[0m\u001b[0;34m\u001b[0m\u001b[0m\n\u001b[0;32m-> 4170\u001b[0;31m             \u001b[0;32mraise\u001b[0m \u001b[0mIndexError\u001b[0m\u001b[0;34m(\u001b[0m\u001b[0;34m\"Index out of range: a[%s]\"\u001b[0m \u001b[0;34m%\u001b[0m \u001b[0;34m(\u001b[0m\u001b[0mj\u001b[0m\u001b[0;34m,\u001b[0m \u001b[0;34m)\u001b[0m\u001b[0;34m)\u001b[0m\u001b[0;34m\u001b[0m\u001b[0m\n\u001b[0m\u001b[1;32m   4171\u001b[0m     \u001b[0;32mreturn\u001b[0m \u001b[0mint\u001b[0m\u001b[0;34m(\u001b[0m\u001b[0mj\u001b[0m\u001b[0;34m)\u001b[0m\u001b[0;34m\u001b[0m\u001b[0m\n",
      "\u001b[0;31mIndexError\u001b[0m: Index out of range: a[1]"
     ]
    }
   ],
   "source": [
    "As = map(lambda s: A(D, Matrix([exp(s/2.)]).T), taus)\n",
    "H(D, h), As[0]"
   ]
  },
  {
   "cell_type": "code",
   "execution_count": 64,
   "metadata": {
    "collapsed": false
   },
   "outputs": [],
   "source": [
    "A_invs = map(lambda a: a**-1, As)"
   ]
  },
  {
   "cell_type": "code",
   "execution_count": 65,
   "metadata": {
    "collapsed": false
   },
   "outputs": [
    {
     "data": {
      "text/plain": [
       "array([mpf('-8.7120065202388748'), mpf('-8.7120055231693598'),\n",
       "       mpf('-8.7119979989644438'), mpf('-8.7119568453929475'),\n",
       "       mpf('-8.7117858865790954'), mpf('-8.7112243933430005'),\n",
       "       mpf('-8.7097152163991449'), mpf('-8.7062957120825288'),\n",
       "       mpf('-8.6995949998243507'), mpf('-8.6879859514831494'),\n",
       "       mpf('-8.6698629270425673'), mpf('-8.6439571227721466'),\n",
       "       mpf('-8.6096070523909418'), mpf('-8.5669603228802469'),\n",
       "       mpf('-8.5171328647079214'), mpf('-8.4623431058288094'),\n",
       "       mpf('-8.4059899263244766'), mpf('-8.352618594663797'),\n",
       "       mpf('-8.307745192578917'), mpf('-8.2775483719627925'),\n",
       "       mpf('-8.2684441115099467'), mpf('-8.2865455870224132'),\n",
       "       mpf('-8.3370252762268837'), mpf('-8.4234651685162696'),\n",
       "       mpf('-8.5473649136403065'), mpf('-8.7079946085844924'),\n",
       "       mpf('-8.9026789090535186'), mpf('-9.1274292619999038'),\n",
       "       mpf('-9.3777136085951884'), mpf('-9.6491422112976881'),\n",
       "       mpf('-9.9379340557393938'), mpf('-10.241136774208323'),\n",
       "       mpf('-10.556647083610759'), mpf('-10.883105048225197'),\n",
       "       mpf('-11.219729066904124'), mpf('-11.566139109349793'),\n",
       "       mpf('-11.922196194159074'), mpf('-12.287871437749658'),\n",
       "       mpf('-12.663148626397168'), mpf('-13.047958892321219'),\n",
       "       mpf('-13.44214328624207'), mpf('-13.845437812989354'),\n",
       "       mpf('-14.257475183590682'), mpf('-14.677797881380359'),\n",
       "       mpf('-15.105877752050676'), mpf('-15.541138183565437'),\n",
       "       mpf('-15.982976345620923'), mpf('-16.430783254099484'),\n",
       "       mpf('-16.883959106117434'), mpf('-17.341929369523051')], dtype=object)"
      ]
     },
     "execution_count": 65,
     "metadata": {},
     "output_type": "execute_result"
    }
   ],
   "source": [
    "ln_pi_tau_star_pi = np.array(map(lambda (t, a_inv, a): log(pi_star_tau(exp(t/2.), n, q, f_D, a_inv, a, H(D, h))), zip(taus, A_invs, As))).flatten()\n",
    "ln_pi_tau_star_pi"
   ]
  },
  {
   "cell_type": "code",
   "execution_count": 66,
   "metadata": {
    "collapsed": false
   },
   "outputs": [
    {
     "data": {
      "image/png": "[encoded data removed]",
      "text/plain": [
       "<matplotlib.figure.Figure at 0x10a5f7410>"
      ]
     },
     "metadata": {},
     "output_type": "display_data"
    }
   ],
   "source": [
    "figure()\n",
    "pylab.plot(taus, ln_pi_tau_star_pi, 'r')\n",
    "show()"
   ]
  },
  {
   "cell_type": "code",
   "execution_count": 67,
   "metadata": {
    "collapsed": false
   },
   "outputs": [
    {
     "name": "stdout",
     "output_type": "stream",
     "text": [
      "Optimization terminated successfully.\n",
      "         Current function value: 8.268213\n",
      "         Iterations: 12\n",
      "         Function evaluations: 24\n",
      "[mpf('0.25205993589271652')]\n"
     ]
    }
   ],
   "source": [
    "delta_hat = fit(n, q, f_D, D, h, -2.75)\n",
    "print delta_hat"
   ]
  },
  {
   "cell_type": "code",
   "execution_count": 68,
   "metadata": {
    "collapsed": false
   },
   "outputs": [],
   "source": [
    "A_inv = np.matrix(A(D, delta_hat)).getI()\n",
    "b_hat = beta_hat(H(D, h), A_inv, f_D)\n",
    "d_hat_sq = sigma_hat_sq(n, q, f_D, A_inv, H(D, h))\n",
    "H_ = H(D, h)"
   ]
  },
  {
   "cell_type": "code",
   "execution_count": 69,
   "metadata": {
    "collapsed": false
   },
   "outputs": [
    {
     "data": {
      "text/plain": [
       "(Matrix([\n",
       " [-47.2952014907982],\n",
       " [ 53.7815255538822]]), 93.0185165288469, Matrix([[93.0185165288473]]))"
      ]
     },
     "execution_count": 69,
     "metadata": {},
     "output_type": "execute_result"
    }
   ],
   "source": [
    "b_hat, d_hat_sq, sigma_hat_sq_beta(n, q, f_D, A_inv, H(D, h), b_hat)"
   ]
  },
  {
   "cell_type": "code",
   "execution_count": 70,
   "metadata": {
    "collapsed": false
   },
   "outputs": [
    {
     "data": {
      "text/plain": [
       "100"
      ]
     },
     "execution_count": 70,
     "metadata": {},
     "output_type": "execute_result"
    }
   ],
   "source": [
    "original_points = points\n",
    "points = np.linspace(1075, 1325, 100)\n",
    "normed_points = Matrix(norm_points(points, high=1300, low=1100)).T\n",
    "\n",
    "t = make_t(D, delta_hat)\n",
    "m_star = make_m_star(h, b_hat, A_inv, f_D, t)\n",
    "v_star = make_v_star(d_hat_sq, delta_hat, A_inv, h, H_, t)\n",
    "normed_points.cols"
   ]
  },
  {
   "cell_type": "code",
   "execution_count": 71,
   "metadata": {
    "collapsed": false
   },
   "outputs": [
    {
     "data": {
      "image/png": "[encoded data removed]",
      "text/plain": [
       "<matplotlib.figure.Figure at 0x1072bd990>"
      ]
     },
     "metadata": {},
     "output_type": "display_data"
    }
   ],
   "source": [
    "predictions = matrix2numpy(m_star(normed_points), dtype=float).flatten()\n",
    "sds = matrix2numpy(diag(v_star(normed_points, normed_points)).applyfunc(sqrt)*2, dtype=float).flatten()\n",
    "predictions, sds\n",
    "figure()\n",
    "fill_between(points, predictions + sds, predictions - sds, alpha=0.5)\n",
    "pylab.plot(points, predictions, '--')\n",
    "pylab.plot(original_points, matrix2numpy(f_D, dtype=float).flatten(), 'o')\n",
    "ylim([-60, 10])\n",
    "xlim([1075, 1325])\n",
    "show()"
   ]
  },
  {
   "cell_type": "code",
   "execution_count": 72,
   "metadata": {
    "collapsed": false
   },
   "outputs": [
    {
     "name": "stdout",
     "output_type": "stream",
     "text": [
      "Matrix([[0.0500000000000000, 0.300000000000000, 0.750000000000000]])\n",
      "Matrix([[-48.8353143068377], [-35.6729779839630], [-3.10907136937750]])\n",
      "Matrix([[1.37927021269991], [1.33280240664599], [0.974864226574860]])\n",
      "Matrix([[0.675314306837727, -3.95702201603703, -0.0309286306225003]])*Matrix([\n",
      "[1.37927021269991],\n",
      "[1.33280240664599],\n",
      "[0.97486422657486]])**(-1)\n"
     ]
    }
   ],
   "source": [
    "validation_points = np.array([1110, 1160, 1250])\n",
    "D_prime = Matrix(norm_points(validation_points, low=1100, high=1300)).T\n",
    "print D_prime\n",
    "f_D_prime = Matrix([[-48.16, -39.63, -3.14]]).T\n",
    "m_star_D_prime = m_star(D_prime)\n",
    "print m_star_D_prime\n",
    "v_star_D_prime = v_star(D_prime, D_prime)\n",
    "print diag(v_star_D_prime).applyfunc(sqrt)\n",
    "print se(f_D_prime, m_star_D_prime, v_star_D_prime)"
   ]
  },
  {
   "cell_type": "code",
   "execution_count": 73,
   "metadata": {
    "collapsed": false
   },
   "outputs": [
    {
     "data": {
      "text/plain": [
       "Matrix([[26.6627862710345]])"
      ]
     },
     "execution_count": 73,
     "metadata": {},
     "output_type": "execute_result"
    }
   ],
   "source": [
    "mahalanobis(f_D_prime, m_star_D_prime, v_star_D_prime)"
   ]
  },
  {
   "cell_type": "code",
   "execution_count": 74,
   "metadata": {
    "collapsed": false
   },
   "outputs": [],
   "source": [
    "points = np.array([1100, 1110, 1140, 1160, 1180,1220, 1250,1260,1300])\n",
    "f_D = Matrix([[-48.85,-48.16, -45.15, -39.63, -23.78,-8.87, -3.14, -1.49,4.77]]).T\n",
    "D = Matrix(norm_points(points)).T\n",
    "n = len(points)"
   ]
  },
  {
   "cell_type": "code",
   "execution_count": 75,
   "metadata": {
    "collapsed": false
   },
   "outputs": [
    {
     "name": "stdout",
     "output_type": "stream",
     "text": [
      "Optimization terminated successfully.\n",
      "         Current function value: 10.658584\n",
      "         Iterations: 15\n",
      "         Function evaluations: 30\n",
      "[mpf('0.16912900604904935')]\n"
     ]
    }
   ],
   "source": [
    "delta_hat = fit(n, q, f_D, D, h, -2.75)\n",
    "print delta_hat"
   ]
  },
  {
   "cell_type": "code",
   "execution_count": 76,
   "metadata": {
    "collapsed": false
   },
   "outputs": [
    {
     "name": "stdout",
     "output_type": "stream",
     "text": [
      "Matrix([[-48.6457154367916], [56.4632108836243]]) 49.9993413295219\n"
     ]
    }
   ],
   "source": [
    "A_inv = np.matrix(A(D, delta_hat)).getI()\n",
    "b_hat = beta_hat(H(D, h), A_inv, f_D)\n",
    "d_hat_sq = sigma_hat_sq(n, q, f_D, A_inv, H(D, h))\n",
    "H_ = H(D, h)\n",
    "print b_hat, d_hat_sq"
   ]
  },
  {
   "cell_type": "code",
   "execution_count": 77,
   "metadata": {
    "collapsed": false
   },
   "outputs": [],
   "source": [
    "original_points = points\n",
    "points = np.linspace(1075, 1325,100)\n",
    "normed_points = Matrix(norm_points(points, high=1300, low=1100)).T\n",
    "\n",
    "t = make_t(D, delta_hat)\n",
    "m_star = make_m_star(h, b_hat, A_inv, f_D, t)\n",
    "v_star = make_v_star(d_hat_sq, delta_hat, A_inv, h, H_, t)\n",
    "\n",
    "predictions = matrix2numpy(m_star(normed_points), dtype=float).flatten()\n",
    "sds = matrix2numpy(diag(v_star(normed_points, normed_points)).applyfunc(sqrt)*2, dtype=float).flatten()"
   ]
  },
  {
   "cell_type": "code",
   "execution_count": 78,
   "metadata": {
    "collapsed": false
   },
   "outputs": [
    {
     "data": {
      "image/png": "[encoded data removed]",
      "text/plain": [
       "<matplotlib.figure.Figure at 0x10a8ef610>"
      ]
     },
     "metadata": {},
     "output_type": "display_data"
    }
   ],
   "source": [
    "figure()\n",
    "fill_between(points, predictions + sds, predictions - sds, alpha=0.5)\n",
    "pylab.plot(points, predictions, '--')\n",
    "pylab.plot(original_points, matrix2numpy(f_D, dtype=float).flatten(), 'o')\n",
    "ylim([-60, 10])\n",
    "xlim([1075, 1325])\n",
    "show()"
   ]
  },
  {
   "cell_type": "code",
   "execution_count": 80,
   "metadata": {
    "collapsed": false
   },
   "outputs": [
    {
     "name": "stdout",
     "output_type": "stream",
     "text": [
      "Matrix([[0.150000000000000, 0.500000000000000, 0.850000000000000]])\n",
      "Matrix([[-45.9889986374434], [-12.1490780138255], [-0.234143542054143]])\n",
      "Matrix([[0.595688921106910], [1.89344197800128], [0.991001645505514]])\n",
      "Matrix([[-0.431001362556572, -3.30092198617445, 0.784143542054143]])*Matrix([\n",
      "[ 0.59568892110691],\n",
      "[ 1.89344197800128],\n",
      "[0.991001645505514]])**(-1)\n"
     ]
    }
   ],
   "source": [
    "validation_points = np.array([1130, 1200, 1270])\n",
    "D_prime = norm_points(validation_points, low=1100, high=1300).T\n",
    "print D_prime\n",
    "f_D_prime = Matrix([[-46.42, -15.45, 0.55]]).T\n",
    "m_star_D_prime = m_star(D_prime)\n",
    "print m_star_D_prime\n",
    "v_star_D_prime = v_star(D_prime, D_prime)\n",
    "print diag(v_star_D_prime).applyfunc(sqrt)\n",
    "print se(f_D_prime, m_star_D_prime, v_star_D_prime)"
   ]
  },
  {
   "cell_type": "code",
   "execution_count": 81,
   "metadata": {
    "collapsed": false
   },
   "outputs": [
    {
     "data": {
      "text/plain": [
       "Matrix([[6.20778752514686]])"
      ]
     },
     "execution_count": 81,
     "metadata": {},
     "output_type": "execute_result"
    }
   ],
   "source": [
    "mahalanobis(f_D_prime, m_star_D_prime, v_star_D_prime)"
   ]
  },
  {
   "cell_type": "code",
   "execution_count": 85,
   "metadata": {
    "collapsed": false
   },
   "outputs": [
    {
     "name": "stdout",
     "output_type": "stream",
     "text": [
      "Optimization terminated successfully.\n",
      "         Current function value: 10.831993\n",
      "         Iterations: 16\n",
      "         Function evaluations: 32\n",
      "[mpf('0.14505538435262894')]\n",
      "Matrix([[-50.1799650440613], [58.6406109508480]]) 30.0601337670153\n"
     ]
    },
    {
     "data": {
      "image/png": "[encoded data removed]",
      "text/plain": [
       "<matplotlib.figure.Figure at 0x10be69b10>"
      ]
     },
     "metadata": {},
     "output_type": "display_data"
    }
   ],
   "source": [
    "points = np.array([1100, 1110, 1130, 1140, 1160, 1180,1200, 1220, 1250,1260, 1270, 1300])\n",
    "f_D = Matrix([[-48.85,-48.16, -46.42, -45.15, -39.63, -23.78,-15.45, -8.87, -3.14, -1.49, 0.55, 4.77]]).T\n",
    "D = norm_points(points).T\n",
    "n = len(points)\n",
    "\n",
    "delta_hat = fit(n, q, f_D, D, h, -2.75)\n",
    "print delta_hat\n",
    "A_inv = A(D, delta_hat)**-1\n",
    "b_hat = beta_hat(H(D, h), A_inv, f_D)\n",
    "d_hat_sq = sigma_hat_sq(n, q, f_D, A_inv, H(D, h))\n",
    "H_ = H(D, h)\n",
    "print b_hat, d_hat_sq\n",
    "original_points = points\n",
    "points = np.linspace(1075, 1325,100)\n",
    "normed_points = norm_points(points, high=1300, low=1100).T\n",
    "\n",
    "t = make_t(D, delta_hat)\n",
    "m_star = make_m_star(h, b_hat, A_inv, f_D, t)\n",
    "v_star = make_v_star(d_hat_sq, delta_hat, A_inv, h, H_, t)\n",
    "\n",
    "predictions = matrix2numpy(m_star(normed_points), dtype=float).flatten()\n",
    "sds = matrix2numpy(diag(v_star(normed_points, normed_points)).applyfunc(sqrt)*2, dtype=float).flatten()\n",
    "figure()\n",
    "fill_between(points, predictions + sds, predictions - sds, alpha=0.5)\n",
    "pylab.plot(points, predictions, '--')\n",
    "pylab.plot(original_points, matrix2numpy(f_D, dtype=float).flatten(), 'o')\n",
    "ylim([-60, 10])\n",
    "xlim([1075, 1325])\n",
    "show()"
   ]
  },
  {
   "cell_type": "code",
   "execution_count": null,
   "metadata": {
    "collapsed": false
   },
   "outputs": [],
   "source": []
  }
 ],
 "metadata": {
  "kernelspec": {
   "display_name": "Python 2",
   "language": "python",
   "name": "python2"
  },
  "language_info": {
   "codemirror_mode": {
    "name": "ipython",
    "version": 2
   },
   "file_extension": ".py",
   "mimetype": "text/x-python",
   "name": "python",
   "nbconvert_exporter": "python",
   "pygments_lexer": "ipython2",
   "version": "2.7.9"
  }
 },
 "nbformat": 4,
 "nbformat_minor": 0
}
