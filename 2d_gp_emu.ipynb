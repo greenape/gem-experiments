{
 "metadata": {
  "name": "",
  "signature": "sha256:44d41b1b1522abecdffa258ccbfa85300fadc79df28db9d8bc4feafaba578291"
 },
 "nbformat": 3,
 "nbformat_minor": 0,
 "worksheets": [
  {
   "cells": [
    {
     "cell_type": "code",
     "collapsed": false,
     "input": [
      "import numpy as np\n",
      "%matplotlib inline\n",
      "from pylab import *\n",
      "from mpl_toolkits.mplot3d import Axes3D\n",
      "from itertools import product"
     ],
     "language": "python",
     "metadata": {},
     "outputs": [],
     "prompt_number": 1
    },
    {
     "cell_type": "code",
     "collapsed": false,
     "input": [
      "def is_pos_def(x):\n",
      "        return np.all(np.linalg.eigvalsh(x) > 0)\n",
      "\n",
      "def norm_points(points, high=None, low=None):\n",
      "    if high is None:\n",
      "        high = np.max(points)\n",
      "    if low is None:\n",
      "        low = np.min(points)\n",
      "    return (points-low)/float(high - low)\n",
      "\n",
      "def cor(x, x_prime, delta, p=2):\n",
      "    #print delta\n",
      "    #res = np.exp(-np.add.reduce(map(lambda x_k, x_prime_k, delta_k: np.power((x_k-x_prime_k)/delta_k, 2), np.hsplit(x, p), np.vsplit(x_prime, p), delta)))\n",
      "    res = np.exp(-np.add.reduce(np.power((np.array(np.hsplit(x, p))-np.array(np.vsplit(x_prime, p)))/delta[:,np.newaxis][:,np.newaxis], 2)))\n",
      "    #res = np.exp(-(np.power(((np.array(np.hsplit(x, p))-np.array(np.vsplit(x_prime, p)))[0]/delta[0]), 2) + np.power(((np.array(np.hsplit(x, p))-np.array(np.vsplit(x_prime, p)))[1]/delta[1]), 2)))\n",
      "    return res\n",
      "\n",
      "def cov(x, x_prime, delta, sigma_squared):\n",
      "    return sigma_squared*cor(x, x_prime, delta)\n",
      "\n",
      "def pi_star_delta(sigma_hat_sq, n, q, A_inv, A, H):\n",
      "    return np.power(sigma_hat_sq, -(n-q)/2.)*np.power(np.linalg.det(A), -1/2.)*np.power(np.linalg.det(H.T.dot(A_inv).dot(H)), -1/2.)\n",
      "\n",
      "def sigma_hat_sq(n, q, f_D, A_inv, H):\n",
      "    #print f_D.T.dot(A_inv-A_inv.dot(H).dot((H.T.dot(A_inv).dot(H)).getI()).dot(H.T).dot(A_inv)).dot(f_D)\n",
      "    #print n-q-2\n",
      "    res = f_D.T.dot(A_inv-A_inv.dot(H).dot((H.T.dot(A_inv).dot(H)).getI()).dot(H.T).dot(A_inv)).dot(f_D)/(n-q-2.)\n",
      "    return res\n",
      "\n",
      "def sigma_hat_sq_beta(n, q, f_D, A_inv, H_, beta_hat):\n",
      "    return ((f_D-H_.dot(beta_hat)).T.dot(A_inv).dot(f_D-H_.dot(beta_hat)))/(n-q-2.)\n",
      "\n",
      "def A(points, delta, p):\n",
      "    res = cor(points.T, points, delta, p)\n",
      "    \"\"\"try:\n",
      "        np.linalg.cholesky(res)\n",
      "    except LinAlgError:\n",
      "        print delta\n",
      "        print np.linalg.eigvalsh(res)\n",
      "        raise\"\"\"\n",
      "    return res\n",
      "\n",
      "def A_tau(points, tau, p):\n",
      "    return\n",
      "    \n",
      "\n",
      "def tau(delta):\n",
      "    return 2*np.log(delta)\n",
      "\n",
      "def pi_star_tau(n, q, f_D, A_inv, A, H):\n",
      "    return pi_star_delta(sigma_hat_sq(n, q, f_D, A_inv, H), n, q, A_inv, A, H)\n",
      "\n",
      "def H(x, h):\n",
      "    return h(x).T\n",
      "\n",
      "def beta_hat(H, A_inv, f_D):\n",
      "    return (H.T.dot(A_inv).dot(H)).getI().dot(H.T).dot(A_inv).dot(f_D)\n",
      "\n",
      "def h(x):\n",
      "    return np.vstack((np.ones(x.shape[1]), x))\n",
      "\n",
      "def mahalanobis(f_D, m_star, v_star):\n",
      "    return (f_D - m_star).T.dot(v_star.getI()).dot(f_D - m_star)\n",
      "\n",
      "def se(f_D, m_star, v_star):\n",
      "    return (f_D - m_star).T / np.sqrt(np.diag(v_star))\n",
      "\n",
      "def make_t(D, delta_hat):\n",
      "    def f(x):\n",
      "        return cor(D.T, x, delta_hat)\n",
      "    return f\n",
      "\n",
      "def make_m_star(h, b_hat, A_inv, f_D, t):\n",
      "    def f(x):\n",
      "        return h(x).T.dot(b_hat) + t(x).T.dot(A_inv).dot(f_D - H_.dot(b_hat))\n",
      "    return f\n",
      "\n",
      "def make_v_star(d_hat_sq, delta_hat, A_inv, h, H_, t):    \n",
      "    def f(x, x_prime):\n",
      "        return d_hat_sq*(cor(x.T, x_prime, delta_hat) - t(x).T.dot(np.array(A_inv, dtype=np.float_)).dot(t(x_prime)) + (h(x).T-t(x).T.dot(A_inv).dot(H_)).dot(H_.T.dot(A_inv.dot(H_)).getI()).dot((h(x_prime).T-t(x_prime).T.dot(A_inv.dot(H_))).T))\n",
      "    return f\n",
      "\n",
      "def W(H, A_inv):\n",
      "    return (H.T.dot(A_inv).dot(H)).getI()\n",
      "\n",
      "def G(A_inv, H):\n",
      "    return A_inv.dot(H)\n",
      "\n",
      "def e(A_inv, f_F, H, beta_hat):\n",
      "    return A_inv.dot(f_D - H.dot(beta_hat))\n",
      "\n",
      "def E(r_h, b_hat, r_t, e):\n",
      "    return r_h.T.dot(b_hat) + r_t.T.dot(e)\n",
      "\n",
      "def V(sigma, u, r_t, A_inv, r_h, g, w):\n",
      "    return sigma*(u - r_t.T.dot(A_inv).dot(r_t) + ((r_h - g.T.dot(r_t)).T.dot(w).dot(r_h-g.T.dot(r_t))))\n",
      "\n",
      "def E_var(i_i, i_2, V_, E_):\n",
      "    return (i_i-v) + (i_2 - np.power(E_, 2.))\n",
      "\n",
      "def I_1(sigma, A_inv, r_tt, w, r_hh, r_ht, g):\n",
      "    return sigma*(1-np.trace(A_inv.dot(r_tt)) + np.trace(w.dot(r_hh - 2*r_ht.dot(g) + g.T.dot(r_tt).dot(g))))\n",
      "\n",
      "def I_2(beta, r_hh, r_ht, e_, r_tt):\n",
      "    return beta.T.dot(r_hh).dot(beta) + 2*beta.T.dot(r_ht).dot(e_) + e_.T.dot(r_tt).dot(e_)\n",
      "\n",
      "def I_3(sigma_quad, s_, A_inv, u_tt, r_tt, r_ht, w, u_hh, u_ht, g):\n",
      "    return sigma_quad*(s_ - 2*np.trace(A_inv).dot(u_tt) + t*r*A_inv.dot(r_tt).dot(A_inv).dot(r_tt) + 2*t*r*w.dot(u_hh - 2*u_ht.dot(u) + g.T.dot(u_tt).dot(g)) - 2*t*r*A_inv.dot(r_ht-g.T.dot(r_tt)).T.dot(w).dot(r_ht-g.T.dot(r_tt)) + t*r*w.dot(r_hh - 2*r_ht.dot(g) + g.T.dot(r_tt).dot(g)).dot(w).dot(r_hh - 2*r_ht.dot(g) + g.T.dot(r_tt).dot(g)))\n",
      "\n",
      "def I_4(sigma, beta, U_hh, U_ht, U_tt, e, R_ht, R_tt, R_hh, G, W, A_inv):\n",
      "    return sigma*(beta.T.dot(U_hh).dot(beta) + 2*beta.T.dot(U_ht).dot(e) + e.T.dot(U_tt).dot(e) - beta.T.dot(R_ht).dot(A_inv).dot(R_ht.T).dot(beta) - 2*beta.T.dot(R_ht).dot(A_inv).dot(R_tt).dot(e) - e.T.dot(R_tt).dot(A_inv).dot(R_tt).dot(e) + (R_hh.dot(beta) - G.T.dot(R_ht.T).dot(beta) + R_ht.dot(e) -G.T.dot(R_tt).dot(e)).T.dot(W).dot(R_hh.dot(beta) - G.T.dot(R_ht.T).dot(beta) + R_ht.dot(e) - G.T.dot(R_tt).dot(e)))\n",
      "\n",
      "def I_5(sigma_quad, S, A_inv, U_t, U_h, R_ht, R_t, R_tt, R_h, G, W):\n",
      "    return delta_quad*(S-2*R_t.T.dot(A_inv).dot(U_t) + R_t.T.dot(A_inv).dot(R_tt).dot(A_inv).dot(R_t) + 2*(U_h - G.T.dot(U_t)).T.dot(W).dot(R_h - G.T.dot(R_t)) - 2*R_t.T.dot(A_inv).dot(R_ht.T-R_tt.dot(G)).dot(W).dot(R_h - G.T.dot(R_t)) + (R_h - G.T.dot(R_t)).T.dot(W).dot(R_hh - 2*R_ht.dot(G) + G.T.dot(R_tt).dot(G)).dot(W).dot(R_h - G.T.dot(R_t)))\n",
      "\n",
      "def I_6(sigma, beta, U_h, U_t, R_ht, R_t, R_hh, R_h, A_inv, G, W, e):\n",
      "    return sigma*(beta.T.dot(U_h) - beta.T.dot(R_ht).dot(A_inv).dot(R_t) + beta.T.dot(R_hh - R_ht.dot(G)).dot(W).dot(R_h - G.T.dot(R_t)) + e.T.dot(U_t) - e.T.dot(R_tt).dot(A_inv).dot(R_t) + e.T.dot((R_ht - G.T.dot(R_tt)).T).dot(W).dot(R_h - G.T.dot(R_t)))\n",
      "\n",
      "def Q_k(x, xk, m, B, C):\n",
      "    return 2*(x - xk).T.dot(C.dot(x - xk)) + (x-m).T.dot(B).dot(x-m)\n",
      "\n",
      "def m_k(x, C, B, m):\n",
      "    return (2*C + B).getI().dot(2*C.dot(x) + B.dot(m))\n",
      "\n",
      "def R_h(m, B):\n",
      "    return E_h_x\n",
      "\n",
      "def R_hh(m, B):\n",
      "    return np.vstack((np.hstack(([[1]], m.T)), np.hstack((m, m.dot(m.T) + B.getI()))))\n",
      "\n",
      "def R_t(X, k, B, C, v, m):\n",
      "    X = X[:,k][:,np.newaxis]\n",
      "    m_prime_k = m_k(X, C, B, m)\n",
      "    q_k = Q_k(m_prime_k, X, m, B, C)\n",
      "    \n",
      "    return (1-v)*np.power(np.linalg.det(B), 0.5)*np.power(np.linalg.det(2*C + B), -0.5)*np.exp(-q_k/2.)\n",
      "\n",
      "def R_ht(X, k, B, C, v, m, h):\n",
      "    x = X[:,k][:,np.newaxis]\n",
      "    m_prime_k = m_k(x, C, B, m)\n",
      "    return R_t(X, k, B, C, v, m)[0,0]*np.vstack(([1], m_prime_k))\n",
      "\n",
      "def Q_kl(x, xk, xl, C, B, m):\n",
      "    return 2*(x - xk).T.dot(C).dot(x - xk) + 2*(x - xl).T.dot(C).dot(x - xl) + (x - m).T.dot(B).dot(x - m)\n",
      "\n",
      "def m_kl(xk, xl, C, B, m):\n",
      "    return (4*C + B).getI().dot(2*C.dot(xk) + 2*C.dot(xl) + B.dot(m))\n",
      "\n",
      "def R_tt(x, k, l, C, B, m, v):\n",
      "    xk = x[:,k][:,np.newaxis]\n",
      "    xl = x[:,l][:,np.newaxis]\n",
      "    qkl = Q_kl(m_kl(xk, xl, C, B, m), xk, xl, C, B, m)\n",
      "    return np.power(1-v, 2.)*np.power(np.linalg.det(B), 0.5)*np.power(np.linalg.det(4*C + B), -0.5)*np.exp(- qkl/2.)\n",
      "\n",
      "def Q(x, x_prime, C, B, m):\n",
      "    return 2*(x - x_prime).T.dot(C).dot(x - x_prime) + (x - m).T.dot(B).dot(x - m) + (x_prime - m).T.dot(B).dot(x_prime - m)\n",
      "\n",
      "def x_stack(x, x_prime):\n",
      "    return np.vstack((x, x_prime))\n",
      "\n",
      "def m_stack(m):\n",
      "    return np.vstack((m, m))\n",
      "\n",
      "def B_stack(B, C):\n",
      "    return np.vstack((np.hstack((2*C + B, -2*C)), np.hstack((-2*C, 2*C+B))))\n",
      "\n",
      "def U(v, B, C):\n",
      "    return (1 - v)*np.linalg.det(B)*np.power(np.linalg.det(B_stack(B, C)), -0.5)\n",
      "\n",
      "def U_h(v, B, C, m, X, h):\n",
      "    return U(v, B, C)*expectation(h(X), m_stack(m), B_stack(B, C))\n",
      "\n",
      "def U_hh(v, B, C, m, X, X_prime, h):\n",
      "    return U(v, B, C)*expectation(h(X).dot(h(X_prime).T), m_stack(m), B_stack(B, C))\n",
      "\n",
      "def Q_uk(x, x_prime, C, m, B, k):\n",
      "    return 2*(x_prime - x[k]).T.dot(C).dot(x_prime - x[k]) + 2*(x - x_prime).T.dot(C).dot(x - x_prime) + (x - m).T.dot(B).dot(x - m) + (x_prime - m).T.B.dot(x_prime - m)\n",
      "\n",
      "def m_k_stack(B, m, C, x, k):\n",
      "    return B.getI().dot(np.vstack((B.dot(m), 2*C.dot(x[k]) + B.dot(m))))\n",
      "\n",
      "def B_k_stack(B, C):\n",
      "    return np.vstack((np.hstack((4*C + B, -2*C)), np.hstack((-2*C, 4*C+B))))\n",
      "\n",
      "def U_t(B, C, x, k, m, v):\n",
      "    quk = Q_uk(x, C, x, B, k)\n",
      "    return np.power(1 - v, 2.)*np.linalg.det(B)*np.power(np.linalg.det(B_k_stack(B, C)), -0.5)*np.exp(-quk/2.)\n",
      "\n",
      "def U_ht(B, C, x, k, m, v):\n",
      "    return U_t(B, C, x, k, m, v)*expectation(h(X), m_k_stack(B, m, C, x, k, X), B_k_stack(B, C))\n",
      "\n",
      "def Q_ukl():\n",
      "    return 2*(x - x_prime).T.dot(C).dot(x - x_prime) + Q(x, x_prime, C, m, B, k) "
     ],
     "language": "python",
     "metadata": {},
     "outputs": [],
     "prompt_number": 239
    },
    {
     "cell_type": "code",
     "collapsed": false,
     "input": [
      "def lhc(p, n):\n",
      "    u = np.random.random((p, n))\n",
      "    b = np.array(np.random.permutation(range(0, n)))\n",
      "    for i in range(p - 1):\n",
      "        b = np.vstack((b, np.array(np.random.permutation(range(0, n)))))\n",
      "    return(b + u) / float(n)\n",
      "\n",
      "def maximin_criterion(D):\n",
      "    return np.nanmin(D.T.dot(D))\n",
      "    \n",
      "def maximin_lhc(K, p, n):\n",
      "    D_max = lhc(p, n)\n",
      "    high = maximin_criterion(D_max)\n",
      "    for i in range(K):\n",
      "        D = lhc(p, n)\n",
      "        maximin = maximin_criterion(D_max)\n",
      "        if maximin > high:\n",
      "            D_max = D\n",
      "            high = maximin\n",
      "    return D_max"
     ],
     "language": "python",
     "metadata": {},
     "outputs": [],
     "prompt_number": 3
    },
    {
     "cell_type": "code",
     "collapsed": false,
     "input": [
      "p = 2\n",
      "n = 10\n",
      "k = 500\n",
      "D = maximin_lhc(k, p, n)\n",
      "figure()\n",
      "plot(D[0], D[1], 'o')\n",
      "show()"
     ],
     "language": "python",
     "metadata": {},
     "outputs": [
      {
       "metadata": {},
       "output_type": "display_data",
       "png": "[encoded data removed]",
       "text": [
        "<matplotlib.figure.Figure at 0x105301bd0>"
       ]
      }
     ],
     "prompt_number": 4
    },
    {
     "cell_type": "code",
     "collapsed": false,
     "input": [
      "points = np.array([[0.86,0.27,0.57,0.5,0.14,0.23,0.39,0.93,0.98,0.54, 0.77,0.81,0.18,0.71,0.31,0.04,0.69,0.4,0.63,0.08, 0.34,0.04,0.83,0.21,0.67,0.47,0.14,0.51,0.75,0.95],\n",
      "                   [0.7,0.97,0.29,0.77,0.73,0.11,0.21,0.45,0.05,0.9, 0.52,0.33,0.56,0.84,0.49,0.09,0.19,0.37,0.64,0.86, 0.45,0.58,0.75,0.84,0.37,0.99,0.15,0.66,0.07,0.24 ]], dtype=np.float_)\n",
      "f_D = np.array([[11.81,-4.95,25.51,5.27,4.85,30.28,27.50,20.89,34.50,0.43, 17.59,25.27,13.39,3.67,16.50,29.96,29.78,21.14,12.78,-0.98, 17.99,12.11,9.10,1.03,22.71,-4.61,28.33,11.60,34.10,29.28]], dtype=np.float_).T\n",
      "D = points#norm_points(points)\n",
      "taus = np.array(zip(*product(np.linspace(-10, 5, 250), np.linspace(-10, 10, 250))), dtype=np.float_).T#np.vstack((np.linspace(-10, 10, 100), np.linspace(-10, 10, 100))).T\n",
      "n = D.shape[1]\n",
      "p = D.shape[0]\n",
      "q = 1 + p\n",
      "delta_hat = np.array([0.4966, 0.1061], dtype=np.float_)\n",
      "print n, p, q\n",
      "figure()\n",
      "plot(D[0], D[1], 'o')\n",
      "show()"
     ],
     "language": "python",
     "metadata": {},
     "outputs": [
      {
       "output_type": "stream",
       "stream": "stdout",
       "text": [
        "30 2 3\n"
       ]
      },
      {
       "metadata": {},
       "output_type": "display_data",
       "png": "[encoded data removed]",
       "text": [
        "<matplotlib.figure.Figure at 0x106fd6d90>"
       ]
      }
     ],
     "prompt_number": 5
    },
    {
     "cell_type": "code",
     "collapsed": false,
     "input": [
      "As = map(lambda s: A(D, np.exp(s/2.), p), taus)"
     ],
     "language": "python",
     "metadata": {},
     "outputs": [],
     "prompt_number": 6
    },
    {
     "cell_type": "code",
     "collapsed": false,
     "input": [
      "A_invs = map(lambda a: np.matrix(a).getI(), As)"
     ],
     "language": "python",
     "metadata": {},
     "outputs": [],
     "prompt_number": 7
    },
    {
     "cell_type": "code",
     "collapsed": false,
     "input": [
      "ln_pi_tau_star_pi = np.log(np.array(map(lambda (a_inv, a): pi_star_tau(n, q, f_D, a_inv, a, H(D, h)), zip(A_invs, As))).flatten())\n",
      "show = np.isnan(ln_pi_tau_star_pi)\n",
      "print len(taus[show])"
     ],
     "language": "python",
     "metadata": {},
     "outputs": [
      {
       "output_type": "stream",
       "stream": "stderr",
       "text": [
        "-c:22: RuntimeWarning: invalid value encountered in power\n",
        "-c:22: RuntimeWarning: divide by zero encountered in power\n"
       ]
      },
      {
       "output_type": "stream",
       "stream": "stdout",
       "text": [
        "6727\n"
       ]
      }
     ],
     "prompt_number": 8
    },
    {
     "cell_type": "code",
     "collapsed": false,
     "input": [
      "fig = figure()\n",
      "ax = fig.add_subplot(111, projection='3d')\n",
      "ax.plot_wireframe(taus.T[1][~show], taus.T[0][~show], ln_pi_tau_star_pi[~show])\n",
      "fig.show()"
     ],
     "language": "python",
     "metadata": {},
     "outputs": [
      {
       "output_type": "stream",
       "stream": "stderr",
       "text": [
        "/usr/local/lib/python2.7/site-packages/matplotlib/figure.py:387: UserWarning: matplotlib is currently using a non-GUI backend, so cannot show the figure\n",
        "  \"matplotlib is currently using a non-GUI backend, \"\n",
        "/usr/local/Cellar/python/2.7.8_2/Frameworks/Python.framework/Versions/2.7/lib/python2.7/site-packages/mpl_toolkits/mplot3d/proj3d.py:161: RuntimeWarning: invalid value encountered in true_divide\n",
        "  txs, tys, tzs = vecw[0]/w, vecw[1]/w, vecw[2]/w\n"
       ]
      },
      {
       "metadata": {},
       "output_type": "display_data",
       "png": "[encoded data removed]",
       "text": [
        "<matplotlib.figure.Figure at 0x107084b10>"
       ]
      }
     ],
     "prompt_number": 9
    },
    {
     "cell_type": "code",
     "collapsed": false,
     "input": [
      "from scipy.optimize import basinhopping, minimize\n",
      "\n",
      "def f(x):\n",
      "    try:\n",
      "        a = A(D, np.exp(x/2.), p)\n",
      "        a_inv = np.matrix(a).getI()\n",
      "    except:\n",
      "        return 0.\n",
      "    return -np.log(pi_star_tau(n, q, f_D, a_inv, a, H(D, h)))\n",
      "\n",
      "delta_hat = np.exp(minimize(f, np.array([0.,0.]), method=\"nelder-mead\", options={'disp':True})['x']/2.)\n",
      "print delta_hat"
     ],
     "language": "python",
     "metadata": {},
     "outputs": [
      {
       "output_type": "stream",
       "stream": "stdout",
       "text": [
        "Optimization terminated successfully.\n",
        "         Current function value: -11.512261\n",
        "         Iterations: 93\n",
        "         Function evaluations: 173\n",
        "[ 0.49632059  0.10587287]\n"
       ]
      }
     ],
     "prompt_number": 10
    },
    {
     "cell_type": "code",
     "collapsed": false,
     "input": [
      "A_inv = np.matrix(A(D, delta_hat, p)).getI()\n",
      "b_hat = beta_hat(H(D, h), A_inv, f_D)\n",
      "s_hat_sq = sigma_hat_sq(n, q, f_D, A_inv, H(D, h))[0,0]\n",
      "H_ = H(D, h)"
     ],
     "language": "python",
     "metadata": {},
     "outputs": [],
     "prompt_number": 11
    },
    {
     "cell_type": "code",
     "collapsed": false,
     "input": [
      "b_hat, s_hat_sq, sigma_hat_sq_beta(n, q, f_D, A_inv, H(D, h), b_hat)"
     ],
     "language": "python",
     "metadata": {},
     "outputs": [
      {
       "metadata": {},
       "output_type": "pyout",
       "prompt_number": 12,
       "text": [
        "(matrix([[ 33.5746759 ],\n",
        "         [  4.99711037],\n",
        "         [-39.72660153]]), 1.0312631440501232, matrix([[ 1.03126314]]))"
       ]
      }
     ],
     "prompt_number": 12
    },
    {
     "cell_type": "code",
     "collapsed": false,
     "input": [
      "t = make_t(D, delta_hat)\n",
      "m_star = make_m_star(h, b_hat, A_inv, f_D, t)\n",
      "v_star = make_v_star(s_hat_sq, delta_hat, A_inv, h, H_, t)"
     ],
     "language": "python",
     "metadata": {},
     "outputs": [],
     "prompt_number": 13
    },
    {
     "cell_type": "code",
     "collapsed": false,
     "input": [
      "D_prime = np.array([[0.00,0.83,0.16,0.37,0.76,0.64,0.58,0.91,0.42,0.21],\n",
      "[0.12,0.83,0.51,0.64,0.44,0.70,0.46,0.03,0.24,0.94]])\n",
      "f_D_prime = np.array([[28.66,4.68,15.04,11.63,20.39,10.83,18.78,34.76,26.60,-4.08]]).T\n",
      "m_star_D_prime = m_star(D_prime)\n",
      "print m_star_D_prime\n",
      "v_star_D_prime = v_star(D_prime, D_prime)\n",
      "print np.sqrt(np.diag(v_star_D_prime))\n",
      "ses = np.array(se(f_D_prime, m_star_D_prime, v_star_D_prime))\n",
      "figure()\n",
      "plot(range(0, 10), ses[0], 'x')\n",
      "ylim([-4, 4])\n",
      "show()"
     ],
     "language": "python",
     "metadata": {},
     "outputs": [
      {
       "output_type": "stream",
       "stream": "stdout",
       "text": [
        "[[ 28.66731807]\n",
        " [  4.74596804]\n",
        " [ 15.00925228]\n",
        " [ 11.64455701]\n",
        " [ 20.48090827]\n",
        " [ 10.49950382]\n",
        " [ 18.94461876]\n",
        " [ 35.1970668 ]\n",
        " [ 26.54046169]\n",
        " [ -3.94234845]]\n",
        "[ 0.16388127  0.21859495  0.28556801  0.2532957   0.25570205  0.21565019\n",
        "  0.33641127  0.31668959  0.13691174  0.2027507 ]\n"
       ]
      },
      {
       "ename": "TypeError",
       "evalue": "'numpy.ndarray' object is not callable",
       "output_type": "pyerr",
       "traceback": [
        "\u001b[0;31m---------------------------------------------------------------------------\u001b[0m\n\u001b[0;31mTypeError\u001b[0m                                 Traceback (most recent call last)",
        "\u001b[0;32m<ipython-input-14-d2a87ce064dc>\u001b[0m in \u001b[0;36m<module>\u001b[0;34m()\u001b[0m\n\u001b[1;32m     10\u001b[0m \u001b[0mplot\u001b[0m\u001b[0;34m(\u001b[0m\u001b[0mrange\u001b[0m\u001b[0;34m(\u001b[0m\u001b[0;36m0\u001b[0m\u001b[0;34m,\u001b[0m \u001b[0;36m10\u001b[0m\u001b[0;34m)\u001b[0m\u001b[0;34m,\u001b[0m \u001b[0mses\u001b[0m\u001b[0;34m[\u001b[0m\u001b[0;36m0\u001b[0m\u001b[0;34m]\u001b[0m\u001b[0;34m,\u001b[0m \u001b[0;34m'x'\u001b[0m\u001b[0;34m)\u001b[0m\u001b[0;34m\u001b[0m\u001b[0m\n\u001b[1;32m     11\u001b[0m \u001b[0mylim\u001b[0m\u001b[0;34m(\u001b[0m\u001b[0;34m[\u001b[0m\u001b[0;34m-\u001b[0m\u001b[0;36m4\u001b[0m\u001b[0;34m,\u001b[0m \u001b[0;36m4\u001b[0m\u001b[0;34m]\u001b[0m\u001b[0;34m)\u001b[0m\u001b[0;34m\u001b[0m\u001b[0m\n\u001b[0;32m---> 12\u001b[0;31m \u001b[0mshow\u001b[0m\u001b[0;34m(\u001b[0m\u001b[0;34m)\u001b[0m\u001b[0;34m\u001b[0m\u001b[0m\n\u001b[0m",
        "\u001b[0;31mTypeError\u001b[0m: 'numpy.ndarray' object is not callable"
       ]
      },
      {
       "metadata": {},
       "output_type": "display_data",
       "png": "[encoded data removed]",
       "text": [
        "<matplotlib.figure.Figure at 0x10f89f6d0>"
       ]
      }
     ],
     "prompt_number": 14
    },
    {
     "cell_type": "code",
     "collapsed": false,
     "input": [
      "mahalanobis(f_D_prime, m_star_D_prime, v_star_D_prime)"
     ],
     "language": "python",
     "metadata": {},
     "outputs": [
      {
       "metadata": {},
       "output_type": "pyout",
       "prompt_number": 15,
       "text": [
        "matrix([[ 8.15511948]])"
       ]
      }
     ],
     "prompt_number": 15
    },
    {
     "cell_type": "code",
     "collapsed": false,
     "input": [
      "D = np.hstack((D, D_prime))\n",
      "f_D = np.vstack((f_D, f_D_prime))\n",
      "n = D.shape[1]\n",
      "print n"
     ],
     "language": "python",
     "metadata": {},
     "outputs": [
      {
       "output_type": "stream",
       "stream": "stdout",
       "text": [
        "40\n"
       ]
      }
     ],
     "prompt_number": 16
    },
    {
     "cell_type": "code",
     "collapsed": false,
     "input": [
      "def f(x):\n",
      "    try:\n",
      "        a = A(D, np.exp(x/2.), p)\n",
      "        a_inv = np.matrix(a).getI()\n",
      "    except:\n",
      "        return 0.\n",
      "    return -np.log(pi_star_tau(n, q, f_D, a_inv, a, H(D, h)))\n",
      "\n",
      "def print_fun(x, f, accepted):\n",
      "    print(\"at minima %.4f accepted %d\" % (f, int(accepted)), x)\n",
      "\n",
      "delta_hat = np.exp(minimize(f, np.array([-1.,-4.]), method=\"nelder-mead\", options={'disp':True})['x']/2.)\n",
      "print delta_hat\n",
      "delta_hat = np.exp(basinhopping(f, np.array([-1.,-4.]), callback=print_fun)['x']/2.)\n",
      "print delta_hat\n",
      "#delta_hat = np.array([0.5437, 0.0961])\n",
      "#delta_hat = np.exp(np.array([-1.2187, -4.6840])/2)"
     ],
     "language": "python",
     "metadata": {},
     "outputs": [
      {
       "output_type": "stream",
       "stream": "stdout",
       "text": [
        "Optimization terminated successfully.\n",
        "         Current function value: -29.331672\n",
        "         Iterations: 33\n",
        "         Function evaluations: 63\n",
        "[ 0.54422048  0.09681317]\n",
        "('at minima -29.3317 accepted 1', array([-1.21702048, -4.67000475]))"
       ]
      },
      {
       "output_type": "stream",
       "stream": "stdout",
       "text": [
        "\n",
        "('at minima -29.3317 accepted 1', array([-1.21658937, -4.66996259]))"
       ]
      },
      {
       "output_type": "stream",
       "stream": "stdout",
       "text": [
        "\n",
        "('at minima -29.3317 accepted 1', array([-1.21687534, -4.66996256]))"
       ]
      },
      {
       "output_type": "stream",
       "stream": "stdout",
       "text": [
        "\n",
        "('at minima -29.3317 accepted 1', array([-1.2167836 , -4.66991408]))"
       ]
      },
      {
       "output_type": "stream",
       "stream": "stdout",
       "text": [
        "\n",
        "('at minima -29.3317 accepted 1', array([-1.21686914, -4.66997131]))"
       ]
      },
      {
       "output_type": "stream",
       "stream": "stdout",
       "text": [
        "\n",
        "('at minima -29.3317 accepted 1', array([-1.21686508, -4.67009677]))"
       ]
      },
      {
       "output_type": "stream",
       "stream": "stdout",
       "text": [
        "\n",
        "('at minima -29.3317 accepted 1', array([-1.21666772, -4.66998438]))"
       ]
      },
      {
       "output_type": "stream",
       "stream": "stdout",
       "text": [
        "\n",
        "('at minima -29.3317 accepted 1', array([-1.2168722 , -4.67001978]))"
       ]
      },
      {
       "output_type": "stream",
       "stream": "stdout",
       "text": [
        "\n",
        "('at minima -29.3317 accepted 1', array([-1.21676959, -4.67002604]))"
       ]
      },
      {
       "output_type": "stream",
       "stream": "stdout",
       "text": [
        "\n",
        "('at minima -29.3317 accepted 1', array([-1.21668595, -4.66993409]))"
       ]
      },
      {
       "output_type": "stream",
       "stream": "stdout",
       "text": [
        "\n",
        "('at minima -29.3317 accepted 1', array([-1.216621  , -4.67007134]))"
       ]
      },
      {
       "output_type": "stream",
       "stream": "stdout",
       "text": [
        "\n",
        "('at minima -29.3317 accepted 1', array([-1.21683276, -4.66986294]))"
       ]
      },
      {
       "output_type": "stream",
       "stream": "stdout",
       "text": [
        "\n",
        "('at minima -29.3317 accepted 1', array([-1.21691511, -4.66988179]))"
       ]
      },
      {
       "output_type": "stream",
       "stream": "stdout",
       "text": [
        "\n",
        "('at minima -29.3317 accepted 1', array([-1.21712889, -4.66992903]))"
       ]
      },
      {
       "output_type": "stream",
       "stream": "stdout",
       "text": [
        "\n",
        "('at minima -29.3317 accepted 1', array([-1.21684647, -4.66992705]))"
       ]
      },
      {
       "output_type": "stream",
       "stream": "stdout",
       "text": [
        "\n",
        "('at minima -29.3317 accepted 1', array([-1.21720039, -4.66975696]))"
       ]
      },
      {
       "output_type": "stream",
       "stream": "stdout",
       "text": [
        "\n",
        "('at minima -29.3317 accepted 1', array([-1.21684951, -4.66994006]))"
       ]
      },
      {
       "output_type": "stream",
       "stream": "stdout",
       "text": [
        "\n",
        "('at minima -29.3317 accepted 1', array([-1.21658747, -4.67009679]))"
       ]
      },
      {
       "output_type": "stream",
       "stream": "stdout",
       "text": [
        "\n",
        "('at minima -29.3317 accepted 1', array([-1.21666909, -4.66996556]))"
       ]
      },
      {
       "output_type": "stream",
       "stream": "stdout",
       "text": [
        "\n",
        "('at minima -29.3317 accepted 1', array([-1.21740088, -4.66972598]))"
       ]
      },
      {
       "output_type": "stream",
       "stream": "stdout",
       "text": [
        "\n",
        "('at minima -29.3317 accepted 1', array([-1.21704269, -4.67004664]))"
       ]
      },
      {
       "output_type": "stream",
       "stream": "stdout",
       "text": [
        "\n",
        "('at minima -29.3317 accepted 1', array([-1.2169275 , -4.67001459]))"
       ]
      },
      {
       "output_type": "stream",
       "stream": "stdout",
       "text": [
        "\n",
        "('at minima -29.3317 accepted 1', array([-1.21711139, -4.67016862]))"
       ]
      },
      {
       "output_type": "stream",
       "stream": "stdout",
       "text": [
        "\n",
        "('at minima -29.3317 accepted 1', array([-1.21696407, -4.6699582 ]))"
       ]
      },
      {
       "output_type": "stream",
       "stream": "stdout",
       "text": [
        "\n",
        "('at minima -29.3317 accepted 1', array([-1.2165957 , -4.67006134]))"
       ]
      },
      {
       "output_type": "stream",
       "stream": "stdout",
       "text": [
        "\n",
        "('at minima -29.3317 accepted 1', array([-1.21645773, -4.67001474]))"
       ]
      },
      {
       "output_type": "stream",
       "stream": "stdout",
       "text": [
        "\n",
        "('at minima -29.3317 accepted 1', array([-1.21675495, -4.66993677]))"
       ]
      },
      {
       "output_type": "stream",
       "stream": "stdout",
       "text": [
        "\n",
        "('at minima -29.3317 accepted 1', array([-1.21682865, -4.66995275]))"
       ]
      },
      {
       "output_type": "stream",
       "stream": "stdout",
       "text": [
        "\n",
        "('at minima -29.3317 accepted 1', array([-1.21694549, -4.66993381]))"
       ]
      },
      {
       "output_type": "stream",
       "stream": "stdout",
       "text": [
        "\n",
        "('at minima -29.3317 accepted 1', array([-1.21685801, -4.66992043]))"
       ]
      },
      {
       "output_type": "stream",
       "stream": "stdout",
       "text": [
        "\n",
        "('at minima -29.3317 accepted 1', array([-1.2168568 , -4.66987039]))"
       ]
      },
      {
       "output_type": "stream",
       "stream": "stdout",
       "text": [
        "\n",
        "('at minima -27.4292 accepted 0', array([-1.49063651, -5.03504159]))"
       ]
      },
      {
       "output_type": "stream",
       "stream": "stdout",
       "text": [
        "\n",
        "('at minima -29.3317 accepted 1', array([-1.21697853, -4.66993353]))"
       ]
      },
      {
       "output_type": "stream",
       "stream": "stdout",
       "text": [
        "\n",
        "('at minima -29.3317 accepted 1', array([-1.21681666, -4.67005185]))"
       ]
      },
      {
       "output_type": "stream",
       "stream": "stdout",
       "text": [
        "\n",
        "('at minima -29.3317 accepted 1', array([-1.2168216 , -4.66997893]))"
       ]
      },
      {
       "output_type": "stream",
       "stream": "stdout",
       "text": [
        "\n",
        "('at minima -29.3317 accepted 1', array([-1.2170098 , -4.66999581]))"
       ]
      },
      {
       "output_type": "stream",
       "stream": "stdout",
       "text": [
        "\n",
        "('at minima -29.3317 accepted 1', array([-1.21707714, -4.66995969]))"
       ]
      },
      {
       "output_type": "stream",
       "stream": "stdout",
       "text": [
        "\n",
        "('at minima -29.3317 accepted 1', array([-1.21678142, -4.66995548]))"
       ]
      },
      {
       "output_type": "stream",
       "stream": "stdout",
       "text": [
        "\n",
        "('at minima -29.3317 accepted 1', array([-1.21661784, -4.66989315]))"
       ]
      },
      {
       "output_type": "stream",
       "stream": "stdout",
       "text": [
        "\n",
        "('at minima -27.2058 accepted 0', array([-1.31366779, -5.14451779]))"
       ]
      },
      {
       "output_type": "stream",
       "stream": "stdout",
       "text": [
        "\n",
        "('at minima -29.3317 accepted 1', array([-1.21683277, -4.66995706]))"
       ]
      },
      {
       "output_type": "stream",
       "stream": "stdout",
       "text": [
        "\n",
        "('at minima -29.3317 accepted 1', array([-1.21672957, -4.66999234]))"
       ]
      },
      {
       "output_type": "stream",
       "stream": "stdout",
       "text": [
        "\n",
        "('at minima -29.3317 accepted 1', array([-1.2171885 , -4.66989861]))"
       ]
      },
      {
       "output_type": "stream",
       "stream": "stdout",
       "text": [
        "\n",
        "('at minima -29.3317 accepted 1', array([-1.21662549, -4.66999764]))"
       ]
      },
      {
       "output_type": "stream",
       "stream": "stdout",
       "text": [
        "\n",
        "('at minima -27.1184 accepted 0', array([-1.55036859, -5.0471442 ]))"
       ]
      },
      {
       "output_type": "stream",
       "stream": "stdout",
       "text": [
        "\n",
        "('at minima -29.3317 accepted 1', array([-1.21685829, -4.67003031]))"
       ]
      },
      {
       "output_type": "stream",
       "stream": "stdout",
       "text": [
        "\n",
        "('at minima -29.3317 accepted 1', array([-1.21685098, -4.66996408]))"
       ]
      },
      {
       "output_type": "stream",
       "stream": "stdout",
       "text": [
        "\n",
        "('at minima -29.3317 accepted 1', array([-1.2167647 , -4.67000576]))"
       ]
      },
      {
       "output_type": "stream",
       "stream": "stdout",
       "text": [
        "\n",
        "('at minima -29.3317 accepted 1', array([-1.21684991, -4.66995137]))"
       ]
      },
      {
       "output_type": "stream",
       "stream": "stdout",
       "text": [
        "\n",
        "('at minima -29.3317 accepted 1', array([-1.21676935, -4.66991404]))"
       ]
      },
      {
       "output_type": "stream",
       "stream": "stdout",
       "text": [
        "\n",
        "('at minima -29.3317 accepted 1', array([-1.21693213, -4.66984661]))"
       ]
      },
      {
       "output_type": "stream",
       "stream": "stdout",
       "text": [
        "\n",
        "('at minima -29.3317 accepted 1', array([-1.21677369, -4.67002802]))"
       ]
      },
      {
       "output_type": "stream",
       "stream": "stdout",
       "text": [
        "\n",
        "('at minima -29.3317 accepted 1', array([-1.2172517 , -4.66994467]))"
       ]
      },
      {
       "output_type": "stream",
       "stream": "stdout",
       "text": [
        "\n",
        "('at minima -29.3317 accepted 1', array([-1.21691774, -4.66987489]))"
       ]
      },
      {
       "output_type": "stream",
       "stream": "stdout",
       "text": [
        "\n",
        "('at minima -29.3317 accepted 1', array([-1.2166592 , -4.67002119]))"
       ]
      },
      {
       "output_type": "stream",
       "stream": "stdout",
       "text": [
        "\n",
        "('at minima -29.3317 accepted 1', array([-1.21668378, -4.66980939]))"
       ]
      },
      {
       "output_type": "stream",
       "stream": "stdout",
       "text": [
        "\n",
        "('at minima -29.3317 accepted 1', array([-1.21671646, -4.66979924]))"
       ]
      },
      {
       "output_type": "stream",
       "stream": "stdout",
       "text": [
        "\n",
        "('at minima -29.3317 accepted 1', array([-1.2168768 , -4.66996567]))"
       ]
      },
      {
       "output_type": "stream",
       "stream": "stdout",
       "text": [
        "\n",
        "('at minima -29.3317 accepted 1', array([-1.21689307, -4.66986747]))"
       ]
      },
      {
       "output_type": "stream",
       "stream": "stdout",
       "text": [
        "\n",
        "('at minima -29.3317 accepted 1', array([-1.21682211, -4.66996536]))"
       ]
      },
      {
       "output_type": "stream",
       "stream": "stdout",
       "text": [
        "\n",
        "('at minima -29.3317 accepted 1', array([-1.2167569 , -4.66999694]))"
       ]
      },
      {
       "output_type": "stream",
       "stream": "stdout",
       "text": [
        "\n",
        "('at minima -29.3317 accepted 1', array([-1.21683936, -4.66994485]))"
       ]
      },
      {
       "output_type": "stream",
       "stream": "stdout",
       "text": [
        "\n",
        "('at minima -29.3317 accepted 1', array([-1.2167958 , -4.66990495]))"
       ]
      },
      {
       "output_type": "stream",
       "stream": "stdout",
       "text": [
        "\n",
        "('at minima -27.3455 accepted 0', array([-1.62240526, -4.95555642]))"
       ]
      },
      {
       "output_type": "stream",
       "stream": "stdout",
       "text": [
        "\n",
        "('at minima -29.3317 accepted 1', array([-1.21685202, -4.6699316 ]))"
       ]
      },
      {
       "output_type": "stream",
       "stream": "stdout",
       "text": [
        "\n",
        "('at minima -29.3317 accepted 1', array([-1.21691987, -4.66987921]))"
       ]
      },
      {
       "output_type": "stream",
       "stream": "stdout",
       "text": [
        "\n",
        "('at minima -29.3317 accepted 1', array([-1.21688005, -4.66990783]))"
       ]
      },
      {
       "output_type": "stream",
       "stream": "stdout",
       "text": [
        "\n",
        "('at minima -29.3317 accepted 1', array([-1.21690644, -4.66999416]))"
       ]
      },
      {
       "output_type": "stream",
       "stream": "stdout",
       "text": [
        "\n",
        "('at minima -29.3317 accepted 1', array([-1.21688986, -4.66991515]))"
       ]
      },
      {
       "output_type": "stream",
       "stream": "stdout",
       "text": [
        "\n",
        "('at minima -29.3317 accepted 1', array([-1.21677493, -4.66993028]))"
       ]
      },
      {
       "output_type": "stream",
       "stream": "stdout",
       "text": [
        "\n",
        "('at minima -29.3317 accepted 1', array([-1.2169397, -4.6700963]))"
       ]
      },
      {
       "output_type": "stream",
       "stream": "stdout",
       "text": [
        "\n",
        "('at minima -29.3317 accepted 1', array([-1.21682773, -4.66990597]))"
       ]
      },
      {
       "output_type": "stream",
       "stream": "stdout",
       "text": [
        "\n",
        "('at minima -29.3317 accepted 1', array([-1.21701585, -4.67003592]))"
       ]
      },
      {
       "output_type": "stream",
       "stream": "stdout",
       "text": [
        "\n",
        "('at minima -29.3317 accepted 1', array([-1.21683219, -4.66996641]))"
       ]
      },
      {
       "output_type": "stream",
       "stream": "stdout",
       "text": [
        "\n",
        "('at minima -29.3317 accepted 1', array([-1.2168554 , -4.66994252]))"
       ]
      },
      {
       "output_type": "stream",
       "stream": "stdout",
       "text": [
        "\n",
        "('at minima -29.3317 accepted 1', array([-1.2166048 , -4.66986835]))"
       ]
      },
      {
       "output_type": "stream",
       "stream": "stdout",
       "text": [
        "\n",
        "('at minima -29.3317 accepted 1', array([-1.2167588 , -4.67011065]))"
       ]
      },
      {
       "output_type": "stream",
       "stream": "stdout",
       "text": [
        "\n",
        "('at minima -29.3317 accepted 1', array([-1.21676169, -4.66992995]))"
       ]
      },
      {
       "output_type": "stream",
       "stream": "stdout",
       "text": [
        "\n",
        "('at minima -29.3317 accepted 1', array([-1.21674496, -4.67000919]))"
       ]
      },
      {
       "output_type": "stream",
       "stream": "stdout",
       "text": [
        "\n",
        "('at minima -29.3317 accepted 1', array([-1.21679863, -4.66995067]))"
       ]
      },
      {
       "output_type": "stream",
       "stream": "stdout",
       "text": [
        "\n",
        "('at minima -29.3317 accepted 1', array([-1.21675469, -4.67012233]))"
       ]
      },
      {
       "output_type": "stream",
       "stream": "stdout",
       "text": [
        "\n",
        "('at minima -29.3317 accepted 1', array([-1.21705862, -4.66997227]))"
       ]
      },
      {
       "output_type": "stream",
       "stream": "stdout",
       "text": [
        "\n",
        "('at minima -29.3317 accepted 1', array([-1.21663578, -4.66995626]))"
       ]
      },
      {
       "output_type": "stream",
       "stream": "stdout",
       "text": [
        "\n",
        "('at minima -29.3317 accepted 1', array([-1.21691367, -4.66988947]))"
       ]
      },
      {
       "output_type": "stream",
       "stream": "stdout",
       "text": [
        "\n",
        "('at minima -29.3317 accepted 1', array([-1.21684051, -4.66986462]))"
       ]
      },
      {
       "output_type": "stream",
       "stream": "stdout",
       "text": [
        "\n",
        "('at minima -29.3317 accepted 1', array([-1.21683702, -4.66995422]))"
       ]
      },
      {
       "output_type": "stream",
       "stream": "stdout",
       "text": [
        "\n",
        "('at minima -29.3317 accepted 1', array([-1.21692424, -4.66984451]))"
       ]
      },
      {
       "output_type": "stream",
       "stream": "stdout",
       "text": [
        "\n",
        "('at minima -29.3317 accepted 1', array([-1.21684396, -4.67017508]))"
       ]
      },
      {
       "output_type": "stream",
       "stream": "stdout",
       "text": [
        "\n",
        "('at minima -29.3317 accepted 1', array([-1.21684182, -4.66985508]))"
       ]
      },
      {
       "output_type": "stream",
       "stream": "stdout",
       "text": [
        "\n",
        "('at minima -29.3317 accepted 1', array([-1.21650768, -4.66992886]))"
       ]
      },
      {
       "output_type": "stream",
       "stream": "stdout",
       "text": [
        "\n",
        "('at minima -29.3317 accepted 1', array([-1.21679691, -4.66992114]))"
       ]
      },
      {
       "output_type": "stream",
       "stream": "stdout",
       "text": [
        "\n",
        "('at minima -26.4068 accepted 0', array([-1.61508853, -5.11093284]))"
       ]
      },
      {
       "output_type": "stream",
       "stream": "stdout",
       "text": [
        "\n",
        "('at minima -29.3317 accepted 1', array([-1.21687901, -4.66986772]))"
       ]
      },
      {
       "output_type": "stream",
       "stream": "stdout",
       "text": [
        "\n",
        "('at minima -29.3317 accepted 1', array([-1.21682185, -4.66994732]))"
       ]
      },
      {
       "output_type": "stream",
       "stream": "stdout",
       "text": [
        "\n",
        "('at minima -28.2775 accepted 1', array([-1.38985844, -4.94521821]))"
       ]
      },
      {
       "output_type": "stream",
       "stream": "stdout",
       "text": [
        "\n",
        "('at minima -25.9035 accepted 0', array([-1.66788877, -5.14669236]))"
       ]
      },
      {
       "output_type": "stream",
       "stream": "stdout",
       "text": [
        "\n",
        "('at minima -29.3317 accepted 1', array([-1.21683485, -4.67000827]))"
       ]
      },
      {
       "output_type": "stream",
       "stream": "stdout",
       "text": [
        "\n",
        "('at minima -29.3317 accepted 1', array([-1.21701257, -4.66994393]))"
       ]
      },
      {
       "output_type": "stream",
       "stream": "stdout",
       "text": [
        "\n",
        "('at minima -29.3317 accepted 1', array([-1.21688862, -4.66989598]))"
       ]
      },
      {
       "output_type": "stream",
       "stream": "stdout",
       "text": [
        "\n",
        "('at minima -29.3317 accepted 1', array([-1.21672488, -4.66990464]))"
       ]
      },
      {
       "output_type": "stream",
       "stream": "stdout",
       "text": [
        "\n",
        "[ 0.54421313  0.09681277]\n"
       ]
      },
      {
       "output_type": "stream",
       "stream": "stderr",
       "text": [
        "/usr/local/lib/python2.7/site-packages/scipy/optimize/optimize.py:610: RuntimeWarning: invalid value encountered in subtract\n",
        "  grad[k] = (f(*((xk + d,) + args)) - f0) / d[k]\n"
       ]
      }
     ],
     "prompt_number": 17
    },
    {
     "cell_type": "code",
     "collapsed": false,
     "input": [
      "print delta_hat\n",
      "A_inv = np.matrix(A(D, delta_hat, p)).getI()\n",
      "b_hat = beta_hat(H(D, h), A_inv, f_D)\n",
      "s_hat_sq = sigma_hat_sq(n, q, f_D, A_inv, H(D, h))[0,0]\n",
      "H_ = H(D, h)\n",
      "t = make_t(D, delta_hat)\n",
      "m_star = make_m_star(h, b_hat, A_inv, f_D, t)\n",
      "v_star = make_v_star(s_hat_sq, delta_hat, A_inv, h, H_, t)\n",
      "print b_hat, s_hat_sq, sigma_hat_sq_beta(n, q, f_D, A_inv, H(D, h), b_hat)"
     ],
     "language": "python",
     "metadata": {},
     "outputs": [
      {
       "output_type": "stream",
       "stream": "stdout",
       "text": [
        "[ 0.54421313  0.09681277]\n",
        "[[ 33.59685642]\n",
        " [  4.85740529]\n",
        " [-39.67529247]] 0.924389912212 [[ 0.92438991]]\n"
       ]
      }
     ],
     "prompt_number": 18
    },
    {
     "cell_type": "code",
     "collapsed": false,
     "input": [
      "B = np.asmatrix(np.array([[50, 0], [0, 50]]))\n",
      "C = np.array([[np.power(delta_hat[0], -2.), 0], [0, np.power(delta_hat[1], -2.)]])\n",
      "m = np.array([.5, .5])[:,np.newaxis]\n",
      "v = 0.\n",
      "E_X_h_x = np.vstack((1, m))\n",
      "E_X_h_x_h_x = np.vstack((np.hstack(([[1]], m.T)), np.hstack((m, m.dot(m.T) + np.asmatrix(B).getI()))))"
     ],
     "language": "python",
     "metadata": {},
     "outputs": [],
     "prompt_number": 103
    },
    {
     "cell_type": "code",
     "collapsed": false,
     "input": [
      "w = W(H_, A_inv)\n",
      "g = G(A_inv, H_)\n",
      "e_ = e(A_inv, f_D, H_, b_hat)\n",
      "r_h = R_h(E_X_h_x)\n",
      "r_t = np.array(map(lambda k: R_t(D, k, B, C, v, m), range(D.shape[1]))).flatten()[:,np.newaxis]\n",
      "u = U(v, B, C)\n",
      "E_ = E(r_h, b_hat, r_t, e_)\n",
      "V_ = V(s_hat_sq, u, r_t, A_inv, r_h, g, w)"
     ],
     "language": "python",
     "metadata": {},
     "outputs": [],
     "prompt_number": 216
    },
    {
     "cell_type": "code",
     "collapsed": false,
     "input": [
      "E_, V_"
     ],
     "language": "python",
     "metadata": {},
     "outputs": [
      {
       "metadata": {},
       "output_type": "pyout",
       "prompt_number": 217,
       "text": [
        "(matrix([[ 16.98451181]]), matrix([[ 0.00161838]]))"
       ]
      }
     ],
     "prompt_number": 217
    },
    {
     "cell_type": "code",
     "collapsed": false,
     "input": [
      "r_tt = map(lambda k: map(lambda l: R_tt(D, k, l, C, B, m, v)[0,0], range(D.shape[1])), range(D.shape[1])) #matrix\n",
      "r_hh = R_hh(m, B)\n",
      "r_ht = reduce(lambda x, y: np.hstack((x, y)),map(lambda k: R_ht(D, k, B, C, v, m, h), range(D.shape[1]))) #matrix\n",
      "i_1 = I_1(s_hat_sq, A_inv, r_tt, w, r_hh, r_ht, g)\n",
      "i_2 = I_2(b_hat, r_hh, r_ht, e_, r_tt)\n",
      "E_var_ = E_var(i_1, i_2, V_, E_)[0,0]\n"
     ],
     "language": "python",
     "metadata": {},
     "outputs": [],
     "prompt_number": 302
    },
    {
     "cell_type": "code",
     "collapsed": false,
     "input": [
      "figure()\n",
      "mean = E_[0,0]\n",
      "variance = E_var_\n",
      "sigma = math.sqrt(variance)\n",
      "x = np.linspace(0,40,100)\n",
      "plt.plot(x,mlab.normpdf(x,mean,sigma))\n",
      "\n",
      "plt.show()"
     ],
     "language": "python",
     "metadata": {},
     "outputs": [
      {
       "metadata": {},
       "output_type": "display_data",
       "png": "[encoded data removed]",
       "text": [
        "<matplotlib.figure.Figure at 0x10d2db650>"
       ]
      }
     ],
     "prompt_number": 306
    },
    {
     "cell_type": "code",
     "collapsed": false,
     "input": [],
     "language": "python",
     "metadata": {},
     "outputs": [
      {
       "metadata": {},
       "output_type": "pyout",
       "prompt_number": 305,
       "text": [
        "(matrix([[ 16.98451181]]), 5.474571972714629)"
       ]
      }
     ],
     "prompt_number": 305
    },
    {
     "cell_type": "code",
     "collapsed": false,
     "input": [],
     "language": "python",
     "metadata": {},
     "outputs": []
    }
   ],
   "metadata": {}
  }
 ]
}