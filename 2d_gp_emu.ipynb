{
 "metadata": {
  "name": "",
  "signature": "sha256:0550be03715bfca784f9ef5522029c6af8d2ee4f438b89f1c4f9c9aa90ae835e"
 },
 "nbformat": 3,
 "nbformat_minor": 0,
 "worksheets": [
  {
   "cells": [
    {
     "cell_type": "code",
     "collapsed": false,
     "input": [
      "import numpy as np\n",
      "%matplotlib inline\n",
      "from pylab import *\n",
      "from mpl_toolkits.mplot3d import Axes3D\n",
      "from itertools import combinations"
     ],
     "language": "python",
     "metadata": {},
     "outputs": [],
     "prompt_number": 159
    },
    {
     "cell_type": "code",
     "collapsed": false,
     "input": [
      "def norm_points(points, high=None, low=None):\n",
      "    if high is None:\n",
      "        high = np.max(points)\n",
      "    if low is None:\n",
      "        low = np.min(points)\n",
      "    return (points-low)/float(high - low)\n",
      "\n",
      "def cor(x, x_prime, sigma, p=2):\n",
      "    return np.exp(-np.add.reduce(map(lambda x_k, x_prime_k, sigma_k: np.power((x_k-x_prime_k)/sigma_k, 2), np.hsplit(x, p), np.vsplit(x_prime, p), sigma)))\n",
      "\n",
      "def cov(x, x_prime, sigma, delta_squared):\n",
      "    return delta_squared*cor(x, x_prime, sigma)\n",
      "\n",
      "def pi_star_sigma(delta_hat_sq, n, q, A_inv, A, H):\n",
      "    return np.power(delta_hat_sq, -(n-q)/2.)*np.power(np.linalg.det(A), -1/2.)*np.power(np.linalg.det(H.T.dot(A_inv).dot(H)), -1/2.)\n",
      "\n",
      "def delta_hat_sq(n, q, f_D, A_inv, H):\n",
      "    res = np.power(n-q-2, -1.)\n",
      "    res *= f_D.T.dot(A_inv-A_inv.dot(H).dot((H.T.dot(A_inv).dot(H)).getI()).dot(H.T).dot(A_inv))\n",
      "    return res.dot(f_D)\n",
      "\n",
      "def delta_hat_sq_beta(n, q, f_D, A_inv, H_, beta_hat):\n",
      "    return ((f_D-H_.dot(beta_hat)).T.dot(A_inv).dot(f_D-H_.dot(beta_hat)))/(n-q-2.)\n",
      "\n",
      "def A(points, sigma, p):\n",
      "    return cor(points.T, points, sigma, p)\n",
      "\n",
      "def tau(sigma):\n",
      "    return 2*np.log(sigma)\n",
      "\n",
      "def pi_star_tau(n, q, f_D, A_inv, A, H):\n",
      "    return pi_star_sigma(delta_hat_sq(n, q, f_D, A_inv, H), n, q, A_inv, A, H)\n",
      "\n",
      "def H(x, h):\n",
      "    return h(x).T\n",
      "\n",
      "def beta_hat(H, A_inv, f_D):\n",
      "    return (H.T.dot(A_inv).dot(H)).getI().dot(H.T).dot(A_inv).dot(f_D)\n",
      "\n",
      "def h(x):\n",
      "    return np.vstack((np.ones(x.shape[1]), x))\n",
      "\n",
      "def mahalanobis(f_D, m_star, v_star):\n",
      "    return (f_D - m_star).T.dot(v_star.getI()).dot(f_D - m_star)\n",
      "\n",
      "def se(f_D, m_star, v_star):\n",
      "    return (f_D - m_star).T / np.sqrt(np.diag(v_star))\n",
      "\n",
      "def make_t(D, sigma_hat):\n",
      "    def f(x):\n",
      "        return cor(D.T, x, sigma_hat)\n",
      "    return f\n",
      "\n",
      "def make_m_star(h, b_hat, A_inv, f_D):\n",
      "    def f(x):\n",
      "        return h(x).T.dot(b_hat) + t(x).T.dot(A_inv).dot(f_D - H_.dot(b_hat))\n",
      "    return f\n",
      "\n",
      "def make_v_star(d_hat_sq, sigma_hat, A_inv, h, H_):    \n",
      "    def f(x, x_prime):\n",
      "        return d_hat_sq*(cor(x.T, x_prime, sigma_hat) - t(x).T.dot(np.array(A_inv)).dot(t(x_prime)) + (h(x).T-t(x).T.dot(A_inv).dot(H_)).dot(H_.T.dot(A_inv.dot(H_)).getI()).dot((h(x_prime).T-t(x_prime).T.dot(A_inv.dot(H_))).T))\n",
      "    return f\n",
      "\n"
     ],
     "language": "python",
     "metadata": {},
     "outputs": [],
     "prompt_number": 219
    },
    {
     "cell_type": "code",
     "collapsed": false,
     "input": [
      "def lhc(p, n):\n",
      "    u = np.random.random((p, n))\n",
      "    b = np.array(np.random.permutation(range(0, n)))\n",
      "    for i in range(p - 1):\n",
      "        b = np.vstack((b, np.array(np.random.permutation(range(0, n)))))\n",
      "    return(b + u) / float(n)\n",
      "\n",
      "def maximin_criterion(D):\n",
      "    return np.nanmin(D.T.dot(D))\n",
      "    \n",
      "def maximin_lhc(K, p, n):\n",
      "    D_max = lhc(p, n)\n",
      "    high = maximin_criterion(D_max)\n",
      "    for i in range(K):\n",
      "        D = lhc(p, n)\n",
      "        maximin = maximin_criterion(D_max)\n",
      "        if maximin > high:\n",
      "            D_max = D\n",
      "            high = maximin\n",
      "    return D_max"
     ],
     "language": "python",
     "metadata": {},
     "outputs": [],
     "prompt_number": 205
    },
    {
     "cell_type": "code",
     "collapsed": false,
     "input": [
      "p = 2\n",
      "n = 10\n",
      "k = 500\n",
      "D = maximin_lhc(k, p, n)\n",
      "figure()\n",
      "plot(D[0], D[1], 'o')\n",
      "show()"
     ],
     "language": "python",
     "metadata": {},
     "outputs": [
      {
       "metadata": {},
       "output_type": "display_data",
       "png": "[encoded data removed]",
       "text": [
        "<matplotlib.figure.Figure at 0x108146e90>"
       ]
      }
     ],
     "prompt_number": 130
    },
    {
     "cell_type": "code",
     "collapsed": false,
     "input": [
      "a_inv = A_invs[len(taus)-1]\n",
      "a = As[len(taus)-1]\n",
      "H_D = H(D, h)\n",
      "d_sq = delta_hat_sq(n, q, f_D, a_inv, H_D)\n",
      "sigma = np.exp(taus[len(taus)-1]/2.)\n",
      "print taus[len(taus)-1], sigma\n",
      "cors = cor(D.T, D, sigma, p)\n",
      "print np.exp(-(np.power((D[0,0]-D[0,5]), 2.)/np.exp(taus[len(taus)-1][0]) + np.power((D[1,0]-D[1,5]), 2.)/np.exp(taus[len(taus)-1][1])))\n",
      "print cors[0, 5]\n",
      "print a[0, 5]\n",
      "print np.array(np.hsplit(D.T, 2)), D\n",
      "print np.exp(-(np.power((D[0,0]-D[0,5]), 2.)/np.exp(taus[len(taus)-1][0])))*np.exp(-(np.power((D[1,0]-D[1,5]), 2.)/np.exp(taus[len(taus)-1][1])))\n",
      "difs = np.power(np.array(np.hsplit(D.T, 2)) - np.array(np.vsplit(D, 2)), 2.)\n",
      "np.exp(-(difs[0]/np.exp(taus[len(taus)-1][0]) + difs[1]/np.exp(taus[len(taus)-1][1])))[0, 5]"
     ],
     "language": "python",
     "metadata": {},
     "outputs": [
      {
       "output_type": "stream",
       "stream": "stdout",
       "text": [
        "[ 4.84848485  5.        ] [ 11.29367037  12.18249396]\n",
        "0.994557590197\n",
        "0.994557590197\n",
        "0.994557590197\n",
        "[[[ 0.86]\n",
        "  [ 0.27]\n",
        "  [ 0.57]\n",
        "  [ 0.5 ]\n",
        "  [ 0.14]\n",
        "  [ 0.23]\n",
        "  [ 0.39]\n",
        "  [ 0.93]\n",
        "  [ 0.98]\n",
        "  [ 0.54]\n",
        "  [ 0.77]\n",
        "  [ 0.81]\n",
        "  [ 0.18]\n",
        "  [ 0.71]\n",
        "  [ 0.31]\n",
        "  [ 0.04]\n",
        "  [ 0.69]\n",
        "  [ 0.4 ]\n",
        "  [ 0.63]\n",
        "  [ 0.08]\n",
        "  [ 0.34]\n",
        "  [ 0.04]\n",
        "  [ 0.83]\n",
        "  [ 0.21]\n",
        "  [ 0.67]\n",
        "  [ 0.47]\n",
        "  [ 0.14]\n",
        "  [ 0.51]\n",
        "  [ 0.75]\n",
        "  [ 0.95]]\n",
        "\n",
        " [[ 0.7 ]\n",
        "  [ 0.97]\n",
        "  [ 0.29]\n",
        "  [ 0.7 ]\n",
        "  [ 0.73]\n",
        "  [ 0.11]\n",
        "  [ 0.21]\n",
        "  [ 0.45]\n",
        "  [ 0.05]\n",
        "  [ 0.9 ]\n",
        "  [ 0.52]\n",
        "  [ 0.33]\n",
        "  [ 0.56]\n",
        "  [ 0.84]\n",
        "  [ 0.49]\n",
        "  [ 0.09]\n",
        "  [ 0.19]\n",
        "  [ 0.37]\n",
        "  [ 0.64]\n",
        "  [ 0.86]\n",
        "  [ 0.45]\n",
        "  [ 0.58]\n",
        "  [ 0.75]\n",
        "  [ 0.84]\n",
        "  [ 0.37]\n",
        "  [ 0.99]\n",
        "  [ 0.15]\n",
        "  [ 0.66]\n",
        "  [ 0.07]\n",
        "  [ 0.24]]] [[ 0.86  0.27  0.57  0.5   0.14  0.23  0.39  0.93  0.98  0.54  0.77  0.81\n",
        "   0.18  0.71  0.31  0.04  0.69  0.4   0.63  0.08  0.34  0.04  0.83  0.21\n",
        "   0.67  0.47  0.14  0.51  0.75  0.95]\n",
        " [ 0.7   0.97  0.29  0.7   0.73  0.11  0.21  0.45  0.05  0.9   0.52  0.33\n",
        "   0.56  0.84  0.49  0.09  0.19  0.37  0.64  0.86  0.45  0.58  0.75  0.84\n",
        "   0.37  0.99  0.15  0.66  0.07  0.24]]\n",
        "0.994557590197\n"
       ]
      },
      {
       "metadata": {},
       "output_type": "pyout",
       "prompt_number": 335,
       "text": [
        "0.99455759019742829"
       ]
      }
     ],
     "prompt_number": 335
    },
    {
     "cell_type": "code",
     "collapsed": false,
     "input": [
      "points = np.array([[0.86, 0.27, 0.57, 0.5, 0.14, 0.23, 0.39, 0.93, 0.98, 0.54, 0.77,0.81,0.18,0.71,0.31,0.04,0.69,0.4,0.63,0.08, 0.34,0.04,0.83,0.21,0.67,0.47,0.14,0.51,0.75,0.95],\n",
      "                   [0.7, 0.97, 0.29, 0.7, 0.73, 0.11, 0.21, 0.45, 0.05, 0.9,0.52,0.33,0.56,0.84,0.49,0.09,0.19,0.37,0.64,0.86,0.45,0.58,0.75,0.84,0.37,0.99,0.15,0.66,0.07,0.24]])\n",
      "f_D = np.array([[11.81, -4.95, 25.51, 5.27, 4.85, 30.28, 27.5, 10.89, 34.5, 0.43,17.59,25.27,13.39,3.67,16.50,29.96,29.78,21.14,12.78,-0.98,17.99,12.11,9.10,1.03,22.71,-4.61,28.33,11.60,34.10,29.28]]).T\n",
      "D = points#norm_points(points)\n",
      "taus = np.array(zip(*combinations(np.linspace(-10, 5, 100), 2))).T#np.vstack((np.linspace(-10, 10, 100), np.linspace(-10, 10, 100))).T\n",
      "n = D.shape[1]\n",
      "p = D.shape[0]\n",
      "q = 1 + p\n",
      "sigma_hat = np.array([0.4966, 0.1061])\n",
      "print n, p, q"
     ],
     "language": "python",
     "metadata": {},
     "outputs": [
      {
       "output_type": "stream",
       "stream": "stdout",
       "text": [
        "30 2 3\n"
       ]
      }
     ],
     "prompt_number": 330
    },
    {
     "cell_type": "code",
     "collapsed": false,
     "input": [
      "As = map(lambda s: A(D, np.exp(s/2.), p), taus)"
     ],
     "language": "python",
     "metadata": {},
     "outputs": [],
     "prompt_number": 331
    },
    {
     "cell_type": "code",
     "collapsed": false,
     "input": [
      "A_invs = map(lambda a: np.matrix(a).getI(), As)"
     ],
     "language": "python",
     "metadata": {},
     "outputs": [],
     "prompt_number": 332
    },
    {
     "cell_type": "code",
     "collapsed": false,
     "input": [
      "ln_pi_tau_star_pi = np.array(map(lambda (a_inv, a): np.log(pi_star_tau(n, q, f_D, a_inv, a, H(D, h))), zip(A_invs, As))).flatten()"
     ],
     "language": "python",
     "metadata": {},
     "outputs": [],
     "prompt_number": 333
    },
    {
     "cell_type": "code",
     "collapsed": false,
     "input": [
      "fig = figure()\n",
      "ax = fig.add_subplot(111, projection='3d')\n",
      "ax.plot_wireframe(taus.T[0], taus.T[1], ln_pi_tau_star_pi)\n",
      "fig.show()"
     ],
     "language": "python",
     "metadata": {},
     "outputs": [
      {
       "metadata": {},
       "output_type": "display_data",
       "png": "[encoded data removed]",
       "text": [
        "<matplotlib.figure.Figure at 0x109d1a110>"
       ]
      }
     ],
     "prompt_number": 334
    },
    {
     "cell_type": "code",
     "collapsed": false,
     "input": [
      "from scipy.optimize import minimize\n",
      "\n",
      "def f(x):\n",
      "    a = A(D, np.exp(x/2.))\n",
      "    a_inv = np.matrix(a).getI()\n",
      "    return -np.log(pi_star_tau(np.exp(x/2.), n, q, f_D, a_inv, a, H(D, h)))\n",
      "\n",
      "sigma_hat = np.exp(minimize(f, -2.75, method=\"nelder-mead\", options={'disp':True})['x']/2.)\n",
      "print sigma_hat"
     ],
     "language": "python",
     "metadata": {},
     "outputs": [
      {
       "output_type": "stream",
       "stream": "stdout",
       "text": [
        "Optimization terminated successfully.\n",
        "         Current function value: 8.268213\n",
        "         Iterations: 12\n",
        "         Function evaluations: 24\n",
        "[ 0.25205994]\n"
       ]
      }
     ],
     "prompt_number": 1519
    },
    {
     "cell_type": "code",
     "collapsed": false,
     "input": [
      "A_inv = np.matrix(A(D, sigma_hat, p)).getI()\n",
      "b_hat = beta_hat(H(D, h), A_inv, f_D)\n",
      "d_hat_sq = delta_hat_sq(n, q, f_D, A_inv, H(D, h))[0,0]\n",
      "H_ = H(D, h)"
     ],
     "language": "python",
     "metadata": {},
     "outputs": [],
     "prompt_number": 324
    },
    {
     "cell_type": "code",
     "collapsed": false,
     "input": [
      "b_hat, d_hat_sq, delta_hat_sq_beta(n, q, f_D, A_inv, H(D, h), b_hat)"
     ],
     "language": "python",
     "metadata": {},
     "outputs": [
      {
       "metadata": {},
       "output_type": "pyout",
       "prompt_number": 325,
       "text": [
        "(matrix([[ 33.25133049],\n",
        "         [  3.59832616],\n",
        "         [-38.90731988]]), 22.436778234998478, matrix([[ 22.43677823]]))"
       ]
      }
     ],
     "prompt_number": 325
    },
    {
     "cell_type": "code",
     "collapsed": false,
     "input": [
      "original_points = points\n",
      "points = np.linspace(1075, 1325, 100)\n",
      "normed_points = norm_points(points, high=1300, low=1100)\n",
      "\n",
      "t = make_t(D, sigma_hat)\n",
      "m_star = make_m_star(h, b_hat, A_inv, f_D)\n",
      "v_star = make_v_star(d_hat_sq, sigma_hat, A_inv, h, H_)"
     ],
     "language": "python",
     "metadata": {},
     "outputs": [],
     "prompt_number": 1522
    },
    {
     "cell_type": "code",
     "collapsed": false,
     "input": [
      "predictions = np.array(m_star(normed_points)).flatten()\n",
      "sds = np.sqrt(np.diag(v_star(normed_points, normed_points))).flatten()*2"
     ],
     "language": "python",
     "metadata": {},
     "outputs": [],
     "prompt_number": 1523
    },
    {
     "cell_type": "code",
     "collapsed": false,
     "input": [
      "figure()\n",
      "fill_between(points, predictions + sds, predictions - sds, alpha=0.5)\n",
      "plot(points, predictions, '--')\n",
      "plot(original_points, f_D.flatten(), 'o')\n",
      "ylim([-60, 10])\n",
      "xlim([1075, 1325])\n",
      "show()"
     ],
     "language": "python",
     "metadata": {},
     "outputs": [
      {
       "metadata": {},
       "output_type": "display_data",
       "png": "[encoded data removed]",
       "text": [
        "<matplotlib.figure.Figure at 0x1126a3e10>"
       ]
      }
     ],
     "prompt_number": 1524
    },
    {
     "cell_type": "code",
     "collapsed": false,
     "input": [
      "validation_points = np.array([1110, 1160, 1250])\n",
      "D_prime = norm_points(validation_points, low=1100, high=1300)\n",
      "print D_prime\n",
      "f_D_prime = np.array([[-48.16, -39.63, -3.14]]).T\n",
      "m_star_D_prime = m_star(D_prime)\n",
      "print m_star_D_prime\n",
      "v_star_D_prime = v_star(D_prime, D_prime)\n",
      "print np.sqrt(np.diag(v_star_D_prime))\n",
      "print se(f_D_prime, m_star_D_prime, v_star_D_prime)"
     ],
     "language": "python",
     "metadata": {},
     "outputs": [
      {
       "output_type": "stream",
       "stream": "stdout",
       "text": [
        "[ 0.05  0.3   0.75]\n",
        "[[-48.83531431]\n",
        " [-35.67297798]\n",
        " [ -3.10907137]]\n",
        "[ 1.37927021  1.33280241  0.97486423]\n",
        "[[ 0.48961712 -2.96894873 -0.03172609]]\n"
       ]
      }
     ],
     "prompt_number": 1525
    },
    {
     "cell_type": "code",
     "collapsed": false,
     "input": [
      "mahalanobis(f_D_prime, m_star_D_prime, v_star_D_prime)"
     ],
     "language": "python",
     "metadata": {},
     "outputs": [
      {
       "metadata": {},
       "output_type": "pyout",
       "prompt_number": 1526,
       "text": [
        "matrix([[ 26.66278627]])"
       ]
      }
     ],
     "prompt_number": 1526
    },
    {
     "cell_type": "code",
     "collapsed": false,
     "input": [
      "points = np.array([1100, 1110, 1140, 1160, 1180,1220, 1250,1260,1300])\n",
      "f_D = np.array([[-48.85,-48.16, -45.15, -39.63, -23.78,-8.87, -3.14, -1.49,4.77]]).T\n",
      "D = norm_points(points)\n",
      "n = len(points)"
     ],
     "language": "python",
     "metadata": {},
     "outputs": [],
     "prompt_number": 1527
    },
    {
     "cell_type": "code",
     "collapsed": false,
     "input": [
      "def f(x):\n",
      "    a = A(D, np.exp(x/2.))\n",
      "    a_inv = np.matrix(a).getI()\n",
      "    return -np.log(pi_star_tau(np.exp(x/2.), n, q, f_D, a_inv, a, H(D, h)))\n",
      "\n",
      "sigma_hat = np.exp(minimize(f, -2.75, method=\"nelder-mead\", options={'disp':True})['x']/2.)\n",
      "print sigma_hat"
     ],
     "language": "python",
     "metadata": {},
     "outputs": [
      {
       "output_type": "stream",
       "stream": "stdout",
       "text": [
        "Optimization terminated successfully.\n",
        "         Current function value: 10.658584\n",
        "         Iterations: 15\n",
        "         Function evaluations: 30\n",
        "[ 0.16912901]\n"
       ]
      }
     ],
     "prompt_number": 1528
    },
    {
     "cell_type": "code",
     "collapsed": false,
     "input": [
      "A_inv = np.matrix(A(D, sigma_hat)).getI()\n",
      "b_hat = beta_hat(H(D, h), A_inv, f_D)\n",
      "d_hat_sq = delta_hat_sq(n, q, f_D, A_inv, H(D, h))[0,0]\n",
      "H_ = H(D, h)\n",
      "print b_hat, d_hat_sq"
     ],
     "language": "python",
     "metadata": {},
     "outputs": [
      {
       "output_type": "stream",
       "stream": "stdout",
       "text": [
        "[[-48.64571544]\n",
        " [ 56.46321088]] 49.9993413295\n"
       ]
      }
     ],
     "prompt_number": 1529
    },
    {
     "cell_type": "code",
     "collapsed": false,
     "input": [
      "original_points = points\n",
      "points = np.linspace(1075, 1325,100)\n",
      "normed_points = norm_points(points, high=1300, low=1100)\n",
      "\n",
      "t = make_t(D, sigma_hat)\n",
      "m_star = make_m_star(h, b_hat, A_inv, f_D)\n",
      "v_star = make_v_star(d_hat_sq, sigma_hat, A_inv, h, H_)\n",
      "\n",
      "predictions = np.array(m_star(normed_points)).flatten()\n",
      "sds = np.sqrt(np.diag(v_star(normed_points, normed_points))).flatten()*2"
     ],
     "language": "python",
     "metadata": {},
     "outputs": [],
     "prompt_number": 1530
    },
    {
     "cell_type": "code",
     "collapsed": false,
     "input": [
      "figure()\n",
      "fill_between(points, predictions + sds, predictions - sds, alpha=0.5)\n",
      "plot(points, predictions, '--')\n",
      "plot(original_points, f_D.flatten(), 'o')\n",
      "ylim([-60, 10])\n",
      "xlim([1075, 1325])\n",
      "show()"
     ],
     "language": "python",
     "metadata": {},
     "outputs": [
      {
       "metadata": {},
       "output_type": "display_data",
       "png": "[encoded data removed]",
       "text": [
        "<matplotlib.figure.Figure at 0x11284e990>"
       ]
      }
     ],
     "prompt_number": 1531
    },
    {
     "cell_type": "code",
     "collapsed": false,
     "input": [
      "validation_points = np.array([1130, 1200, 1270])\n",
      "D_prime = norm_points(validation_points, low=1100, high=1300)\n",
      "print D_prime\n",
      "f_D_prime = np.array([[-46.42, -15.45, 0.55]]).T\n",
      "m_star_D_prime = m_star(D_prime)\n",
      "print m_star_D_prime\n",
      "v_star_D_prime = v_star(D_prime, D_prime)\n",
      "print np.sqrt(np.diag(v_star_D_prime))\n",
      "print se(f_D_prime, m_star_D_prime, v_star_D_prime)"
     ],
     "language": "python",
     "metadata": {},
     "outputs": [
      {
       "output_type": "stream",
       "stream": "stdout",
       "text": [
        "[ 0.15  0.5   0.85]\n",
        "[[-45.98899864]\n",
        " [-12.14907801]\n",
        " [ -0.23414354]]\n",
        "[ 0.59568892  1.89344198  0.99100165]\n",
        "[[-0.72353429 -1.74334467  0.79126361]]\n"
       ]
      }
     ],
     "prompt_number": 1532
    },
    {
     "cell_type": "code",
     "collapsed": false,
     "input": [
      "mahalanobis(f_D_prime, m_star_D_prime, v_star_D_prime)"
     ],
     "language": "python",
     "metadata": {},
     "outputs": [
      {
       "metadata": {},
       "output_type": "pyout",
       "prompt_number": 1533,
       "text": [
        "matrix([[ 6.20778753]])"
       ]
      }
     ],
     "prompt_number": 1533
    },
    {
     "cell_type": "code",
     "collapsed": false,
     "input": [
      "points = np.array([1100, 1110, 1130, 1140, 1160, 1180,1200, 1220, 1250,1260, 1270, 1300])\n",
      "f_D = np.array([[-48.85,-48.16, -46.42, -45.15, -39.63, -23.78,-15.45, -8.87, -3.14, -1.49, 0.55, 4.77]]).T\n",
      "D = norm_points(points)\n",
      "n = len(points)\n",
      "def f(x):\n",
      "    a = A(D, np.exp(x/2.))\n",
      "    a_inv = np.matrix(a).getI()\n",
      "    return -np.log(pi_star_tau(np.exp(x/2.), n, q, f_D, a_inv, a, H(D, h)))\n",
      "\n",
      "sigma_hat = np.exp(minimize(f, -2.75, method=\"nelder-mead\", options={'disp':True})['x']/2.)\n",
      "print sigma_hat\n",
      "A_inv = np.matrix(A(D, sigma_hat)).getI()\n",
      "b_hat = beta_hat(H(D, h), A_inv, f_D)\n",
      "d_hat_sq = delta_hat_sq(n, q, f_D, A_inv, H(D, h))[0,0]\n",
      "H_ = H(D, h)\n",
      "print b_hat, d_hat_sq\n",
      "original_points = points\n",
      "points = np.linspace(1075, 1325,100)\n",
      "normed_points = norm_points(points, high=1300, low=1100)\n",
      "\n",
      "t = make_t(D, sigma_hat)\n",
      "m_star = make_m_star(h, b_hat, A_inv, f_D)\n",
      "v_star = make_v_star(d_hat_sq, sigma_hat, A_inv, h, H_)\n",
      "\n",
      "predictions = np.array(m_star(normed_points)).flatten()\n",
      "sds = np.sqrt(np.diag(v_star(normed_points, normed_points))).flatten()*2\n",
      "figure()\n",
      "fill_between(points, predictions + sds, predictions - sds, alpha=0.5)\n",
      "plot(points, predictions, '--')\n",
      "plot(original_points, f_D.flatten(), 'o')\n",
      "ylim([-60, 10])\n",
      "xlim([1075, 1325])\n",
      "show()"
     ],
     "language": "python",
     "metadata": {},
     "outputs": [
      {
       "output_type": "stream",
       "stream": "stdout",
       "text": [
        "Optimization terminated successfully.\n",
        "         Current function value: 10.831993\n",
        "         Iterations: 16\n",
        "         Function evaluations: 32\n",
        "[ 0.14505538]\n",
        "[[-50.17996504]\n",
        " [ 58.64061095]] 30.060133767\n"
       ]
      },
      {
       "metadata": {},
       "output_type": "display_data",
       "png": "[encoded data removed]",
       "text": [
        "<matplotlib.figure.Figure at 0x1144b3a10>"
       ]
      }
     ],
     "prompt_number": 1534
    },
    {
     "cell_type": "code",
     "collapsed": false,
     "input": [],
     "language": "python",
     "metadata": {},
     "outputs": []
    }
   ],
   "metadata": {}
  }
 ]
}